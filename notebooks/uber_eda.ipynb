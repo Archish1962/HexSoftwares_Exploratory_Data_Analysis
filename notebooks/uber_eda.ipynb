{
 "cells": [
  {
   "cell_type": "code",
   "execution_count": 1,
   "id": "9674e204",
   "metadata": {},
   "outputs": [
    {
     "name": "stdout",
     "output_type": "stream",
     "text": [
      "Setup complete. Libraries imported.\n"
     ]
    }
   ],
   "source": [
    "import numpy as np\n",
    "import pandas as pd\n",
    "import matplotlib.pyplot as plt\n",
    "import seaborn as sns\n",
    "import plotly.express as px\n",
    "from datetime import datetime\n",
    "from geopy.geocoders import Nominatim\n",
    "\n",
    "%matplotlib inline\n",
    "sns.set_theme(style=\"whitegrid\")\n",
    "\n",
    "print(\"Setup complete. Libraries imported.\")"
   ]
  },
  {
   "cell_type": "markdown",
   "id": "7b2ceed5",
   "metadata": {},
   "source": [
    "## Load the Dataset"
   ]
  },
  {
   "cell_type": "code",
   "execution_count": 2,
   "id": "55e3df03",
   "metadata": {},
   "outputs": [],
   "source": [
    "df = pd.read_csv('C:/Users/archi/OneDrive/Documents/Coding/Python/Projects/HexSoftwares_Exploratory_Data_Analysis/data/raw/UberDataset.csv')"
   ]
  },
  {
   "cell_type": "code",
   "execution_count": 3,
   "id": "f6963159",
   "metadata": {},
   "outputs": [
    {
     "name": "stdout",
     "output_type": "stream",
     "text": [
      "Dataset Info:\n",
      "<class 'pandas.core.frame.DataFrame'>\n",
      "RangeIndex: 1156 entries, 0 to 1155\n",
      "Data columns (total 7 columns):\n",
      " #   Column      Non-Null Count  Dtype  \n",
      "---  ------      --------------  -----  \n",
      " 0   START_DATE  1156 non-null   object \n",
      " 1   END_DATE    1155 non-null   object \n",
      " 2   CATEGORY    1155 non-null   object \n",
      " 3   START       1155 non-null   object \n",
      " 4   STOP        1155 non-null   object \n",
      " 5   MILES       1156 non-null   float64\n",
      " 6   PURPOSE     653 non-null    object \n",
      "dtypes: float64(1), object(6)\n",
      "memory usage: 63.3+ KB\n",
      "None\n"
     ]
    }
   ],
   "source": [
    "print(\"Dataset Info:\")\n",
    "print(df.info())"
   ]
  },
  {
   "cell_type": "code",
   "execution_count": 4,
   "id": "d44b0838",
   "metadata": {},
   "outputs": [
    {
     "name": "stdout",
     "output_type": "stream",
     "text": [
      "\n",
      "First 5 rows\n"
     ]
    },
    {
     "data": {
      "text/html": [
       "<div>\n",
       "<style scoped>\n",
       "    .dataframe tbody tr th:only-of-type {\n",
       "        vertical-align: middle;\n",
       "    }\n",
       "\n",
       "    .dataframe tbody tr th {\n",
       "        vertical-align: top;\n",
       "    }\n",
       "\n",
       "    .dataframe thead th {\n",
       "        text-align: right;\n",
       "    }\n",
       "</style>\n",
       "<table border=\"1\" class=\"dataframe\">\n",
       "  <thead>\n",
       "    <tr style=\"text-align: right;\">\n",
       "      <th></th>\n",
       "      <th>START_DATE</th>\n",
       "      <th>END_DATE</th>\n",
       "      <th>CATEGORY</th>\n",
       "      <th>START</th>\n",
       "      <th>STOP</th>\n",
       "      <th>MILES</th>\n",
       "      <th>PURPOSE</th>\n",
       "    </tr>\n",
       "  </thead>\n",
       "  <tbody>\n",
       "    <tr>\n",
       "      <th>0</th>\n",
       "      <td>01-01-2016 21:11</td>\n",
       "      <td>01-01-2016 21:17</td>\n",
       "      <td>Business</td>\n",
       "      <td>Fort Pierce</td>\n",
       "      <td>Fort Pierce</td>\n",
       "      <td>5.1</td>\n",
       "      <td>Meal/Entertain</td>\n",
       "    </tr>\n",
       "    <tr>\n",
       "      <th>1</th>\n",
       "      <td>01-02-2016 01:25</td>\n",
       "      <td>01-02-2016 01:37</td>\n",
       "      <td>Business</td>\n",
       "      <td>Fort Pierce</td>\n",
       "      <td>Fort Pierce</td>\n",
       "      <td>5.0</td>\n",
       "      <td>NaN</td>\n",
       "    </tr>\n",
       "    <tr>\n",
       "      <th>2</th>\n",
       "      <td>01-02-2016 20:25</td>\n",
       "      <td>01-02-2016 20:38</td>\n",
       "      <td>Business</td>\n",
       "      <td>Fort Pierce</td>\n",
       "      <td>Fort Pierce</td>\n",
       "      <td>4.8</td>\n",
       "      <td>Errand/Supplies</td>\n",
       "    </tr>\n",
       "    <tr>\n",
       "      <th>3</th>\n",
       "      <td>01-05-2016 17:31</td>\n",
       "      <td>01-05-2016 17:45</td>\n",
       "      <td>Business</td>\n",
       "      <td>Fort Pierce</td>\n",
       "      <td>Fort Pierce</td>\n",
       "      <td>4.7</td>\n",
       "      <td>Meeting</td>\n",
       "    </tr>\n",
       "    <tr>\n",
       "      <th>4</th>\n",
       "      <td>01-06-2016 14:42</td>\n",
       "      <td>01-06-2016 15:49</td>\n",
       "      <td>Business</td>\n",
       "      <td>Fort Pierce</td>\n",
       "      <td>West Palm Beach</td>\n",
       "      <td>63.7</td>\n",
       "      <td>Customer Visit</td>\n",
       "    </tr>\n",
       "  </tbody>\n",
       "</table>\n",
       "</div>"
      ],
      "text/plain": [
       "         START_DATE          END_DATE  CATEGORY        START             STOP  \\\n",
       "0  01-01-2016 21:11  01-01-2016 21:17  Business  Fort Pierce      Fort Pierce   \n",
       "1  01-02-2016 01:25  01-02-2016 01:37  Business  Fort Pierce      Fort Pierce   \n",
       "2  01-02-2016 20:25  01-02-2016 20:38  Business  Fort Pierce      Fort Pierce   \n",
       "3  01-05-2016 17:31  01-05-2016 17:45  Business  Fort Pierce      Fort Pierce   \n",
       "4  01-06-2016 14:42  01-06-2016 15:49  Business  Fort Pierce  West Palm Beach   \n",
       "\n",
       "   MILES          PURPOSE  \n",
       "0    5.1   Meal/Entertain  \n",
       "1    5.0              NaN  \n",
       "2    4.8  Errand/Supplies  \n",
       "3    4.7          Meeting  \n",
       "4   63.7   Customer Visit  "
      ]
     },
     "execution_count": 4,
     "metadata": {},
     "output_type": "execute_result"
    }
   ],
   "source": [
    "print(\"\\nFirst 5 rows\")\n",
    "df.head(5)"
   ]
  },
  {
   "cell_type": "code",
   "execution_count": 5,
   "id": "7bc0a8b3",
   "metadata": {},
   "outputs": [
    {
     "name": "stdout",
     "output_type": "stream",
     "text": [
      "\n",
      "Missing Values:\n",
      "START_DATE      0\n",
      "END_DATE        1\n",
      "CATEGORY        1\n",
      "START           1\n",
      "STOP            1\n",
      "MILES           0\n",
      "PURPOSE       503\n",
      "dtype: int64\n"
     ]
    }
   ],
   "source": [
    "print(\"\\nMissing Values:\")\n",
    "print(df.isnull().sum())"
   ]
  },
  {
   "cell_type": "code",
   "execution_count": 6,
   "id": "cf650774",
   "metadata": {},
   "outputs": [
    {
     "name": "stdout",
     "output_type": "stream",
     "text": [
      "\n",
      "Unique Values in Categorical Columns:\n",
      "CATEGORY: ['Business' 'Personal' nan]\n",
      "PURPOSE: ['Meal/Entertain' nan 'Errand/Supplies' 'Meeting' 'Customer Visit'\n",
      " 'Temporary Site' 'Between Offices' 'Charity ($)' 'Commute' 'Moving'\n",
      " 'Airport/Travel']\n"
     ]
    }
   ],
   "source": [
    "print(\"\\nUnique Values in Categorical Columns:\")\n",
    "print(\"CATEGORY:\", df['CATEGORY'].unique())\n",
    "print(\"PURPOSE:\", df['PURPOSE'].unique())"
   ]
  },
  {
   "cell_type": "markdown",
   "id": "49845a10",
   "metadata": {},
   "source": [
    "## Preprocessing and Handling Missing data"
   ]
  },
  {
   "cell_type": "code",
   "execution_count": 7,
   "id": "d52ce273",
   "metadata": {},
   "outputs": [
    {
     "name": "stdout",
     "output_type": "stream",
     "text": [
      "<class 'pandas.core.frame.DataFrame'>\n",
      "RangeIndex: 1156 entries, 0 to 1155\n",
      "Data columns (total 7 columns):\n",
      " #   Column      Non-Null Count  Dtype         \n",
      "---  ------      --------------  -----         \n",
      " 0   START_DATE  1155 non-null   datetime64[ns]\n",
      " 1   END_DATE    1155 non-null   datetime64[ns]\n",
      " 2   CATEGORY    1155 non-null   object        \n",
      " 3   START       1155 non-null   object        \n",
      " 4   STOP        1155 non-null   object        \n",
      " 5   MILES       1156 non-null   float64       \n",
      " 6   PURPOSE     1156 non-null   object        \n",
      "dtypes: datetime64[ns](2), float64(1), object(4)\n",
      "memory usage: 63.3+ KB\n"
     ]
    },
    {
     "name": "stderr",
     "output_type": "stream",
     "text": [
      "C:\\Users\\archi\\AppData\\Local\\Temp\\ipykernel_12476\\966210106.py:17: FutureWarning: A value is trying to be set on a copy of a DataFrame or Series through chained assignment using an inplace method.\n",
      "The behavior will change in pandas 3.0. This inplace method will never work because the intermediate object on which we are setting values always behaves as a copy.\n",
      "\n",
      "For example, when doing 'df[col].method(value, inplace=True)', try using 'df.method({col: value}, inplace=True)' or df[col] = df[col].method(value) instead, to perform the operation inplace on the original object.\n",
      "\n",
      "\n",
      "  df['PURPOSE'].fillna(\"NaN\", inplace=True)\n"
     ]
    }
   ],
   "source": [
    "def parse_dates(date_str):\n",
    "    try:\n",
    "        return pd.to_datetime(date_str, errors='coerce')\n",
    "    except:\n",
    "        try:\n",
    "            return pd.to_datetime(date_str, errors='coerce')\n",
    "        except:\n",
    "            return pd.NaT  # Return NaT for unparseable dates\n",
    "\n",
    "\n",
    "df['START_DATE'] = df['START_DATE'].apply(parse_dates)\n",
    "df['END_DATE'] = df['END_DATE'].apply(parse_dates)\n",
    "\n",
    "\n",
    "# Handling Missing data\n",
    "\n",
    "df['PURPOSE'].fillna(\"NaN\", inplace=True)\n",
    "\n",
    "# Saving cleaned data\n",
    "df.to_csv('C:/Users/archi/OneDrive/Documents/Coding/Python/Projects/HexSoftwares_Exploratory_Data_Analysis/data/cleaned/cleaned_data.csv', index=False)\n",
    "\n",
    "df.info()"
   ]
  },
  {
   "cell_type": "code",
   "execution_count": 8,
   "id": "6031698e",
   "metadata": {},
   "outputs": [
    {
     "data": {
      "text/html": [
       "<div>\n",
       "<style scoped>\n",
       "    .dataframe tbody tr th:only-of-type {\n",
       "        vertical-align: middle;\n",
       "    }\n",
       "\n",
       "    .dataframe tbody tr th {\n",
       "        vertical-align: top;\n",
       "    }\n",
       "\n",
       "    .dataframe thead th {\n",
       "        text-align: right;\n",
       "    }\n",
       "</style>\n",
       "<table border=\"1\" class=\"dataframe\">\n",
       "  <thead>\n",
       "    <tr style=\"text-align: right;\">\n",
       "      <th></th>\n",
       "      <th>START_DATE</th>\n",
       "      <th>END_DATE</th>\n",
       "      <th>CATEGORY</th>\n",
       "      <th>START</th>\n",
       "      <th>STOP</th>\n",
       "      <th>MILES</th>\n",
       "      <th>PURPOSE</th>\n",
       "    </tr>\n",
       "  </thead>\n",
       "  <tbody>\n",
       "    <tr>\n",
       "      <th>0</th>\n",
       "      <td>2016-01-01 21:11:00</td>\n",
       "      <td>2016-01-01 21:17:00</td>\n",
       "      <td>Business</td>\n",
       "      <td>Fort Pierce</td>\n",
       "      <td>Fort Pierce</td>\n",
       "      <td>5.1</td>\n",
       "      <td>Meal/Entertain</td>\n",
       "    </tr>\n",
       "    <tr>\n",
       "      <th>1</th>\n",
       "      <td>2016-01-02 01:25:00</td>\n",
       "      <td>2016-01-02 01:37:00</td>\n",
       "      <td>Business</td>\n",
       "      <td>Fort Pierce</td>\n",
       "      <td>Fort Pierce</td>\n",
       "      <td>5.0</td>\n",
       "      <td>NaN</td>\n",
       "    </tr>\n",
       "    <tr>\n",
       "      <th>2</th>\n",
       "      <td>2016-01-02 20:25:00</td>\n",
       "      <td>2016-01-02 20:38:00</td>\n",
       "      <td>Business</td>\n",
       "      <td>Fort Pierce</td>\n",
       "      <td>Fort Pierce</td>\n",
       "      <td>4.8</td>\n",
       "      <td>Errand/Supplies</td>\n",
       "    </tr>\n",
       "    <tr>\n",
       "      <th>3</th>\n",
       "      <td>2016-01-05 17:31:00</td>\n",
       "      <td>2016-01-05 17:45:00</td>\n",
       "      <td>Business</td>\n",
       "      <td>Fort Pierce</td>\n",
       "      <td>Fort Pierce</td>\n",
       "      <td>4.7</td>\n",
       "      <td>Meeting</td>\n",
       "    </tr>\n",
       "    <tr>\n",
       "      <th>4</th>\n",
       "      <td>2016-01-06 14:42:00</td>\n",
       "      <td>2016-01-06 15:49:00</td>\n",
       "      <td>Business</td>\n",
       "      <td>Fort Pierce</td>\n",
       "      <td>West Palm Beach</td>\n",
       "      <td>63.7</td>\n",
       "      <td>Customer Visit</td>\n",
       "    </tr>\n",
       "    <tr>\n",
       "      <th>...</th>\n",
       "      <td>...</td>\n",
       "      <td>...</td>\n",
       "      <td>...</td>\n",
       "      <td>...</td>\n",
       "      <td>...</td>\n",
       "      <td>...</td>\n",
       "      <td>...</td>\n",
       "    </tr>\n",
       "    <tr>\n",
       "      <th>1150</th>\n",
       "      <td>2016-12-31 01:07:00</td>\n",
       "      <td>2016-12-31 01:14:00</td>\n",
       "      <td>Business</td>\n",
       "      <td>Kar?chi</td>\n",
       "      <td>Kar?chi</td>\n",
       "      <td>0.7</td>\n",
       "      <td>Meeting</td>\n",
       "    </tr>\n",
       "    <tr>\n",
       "      <th>1151</th>\n",
       "      <td>2016-12-31 13:24:00</td>\n",
       "      <td>2016-12-31 13:42:00</td>\n",
       "      <td>Business</td>\n",
       "      <td>Kar?chi</td>\n",
       "      <td>Unknown Location</td>\n",
       "      <td>3.9</td>\n",
       "      <td>Temporary Site</td>\n",
       "    </tr>\n",
       "    <tr>\n",
       "      <th>1152</th>\n",
       "      <td>2016-12-31 15:03:00</td>\n",
       "      <td>2016-12-31 15:38:00</td>\n",
       "      <td>Business</td>\n",
       "      <td>Unknown Location</td>\n",
       "      <td>Unknown Location</td>\n",
       "      <td>16.2</td>\n",
       "      <td>Meeting</td>\n",
       "    </tr>\n",
       "    <tr>\n",
       "      <th>1153</th>\n",
       "      <td>2016-12-31 21:32:00</td>\n",
       "      <td>2016-12-31 21:50:00</td>\n",
       "      <td>Business</td>\n",
       "      <td>Katunayake</td>\n",
       "      <td>Gampaha</td>\n",
       "      <td>6.4</td>\n",
       "      <td>Temporary Site</td>\n",
       "    </tr>\n",
       "    <tr>\n",
       "      <th>1154</th>\n",
       "      <td>2016-12-31 22:08:00</td>\n",
       "      <td>2016-12-31 23:51:00</td>\n",
       "      <td>Business</td>\n",
       "      <td>Gampaha</td>\n",
       "      <td>Ilukwatta</td>\n",
       "      <td>48.2</td>\n",
       "      <td>Temporary Site</td>\n",
       "    </tr>\n",
       "  </tbody>\n",
       "</table>\n",
       "<p>1155 rows × 7 columns</p>\n",
       "</div>"
      ],
      "text/plain": [
       "              START_DATE            END_DATE  CATEGORY             START  \\\n",
       "0    2016-01-01 21:11:00 2016-01-01 21:17:00  Business       Fort Pierce   \n",
       "1    2016-01-02 01:25:00 2016-01-02 01:37:00  Business       Fort Pierce   \n",
       "2    2016-01-02 20:25:00 2016-01-02 20:38:00  Business       Fort Pierce   \n",
       "3    2016-01-05 17:31:00 2016-01-05 17:45:00  Business       Fort Pierce   \n",
       "4    2016-01-06 14:42:00 2016-01-06 15:49:00  Business       Fort Pierce   \n",
       "...                  ...                 ...       ...               ...   \n",
       "1150 2016-12-31 01:07:00 2016-12-31 01:14:00  Business           Kar?chi   \n",
       "1151 2016-12-31 13:24:00 2016-12-31 13:42:00  Business           Kar?chi   \n",
       "1152 2016-12-31 15:03:00 2016-12-31 15:38:00  Business  Unknown Location   \n",
       "1153 2016-12-31 21:32:00 2016-12-31 21:50:00  Business        Katunayake   \n",
       "1154 2016-12-31 22:08:00 2016-12-31 23:51:00  Business           Gampaha   \n",
       "\n",
       "                  STOP  MILES          PURPOSE  \n",
       "0          Fort Pierce    5.1   Meal/Entertain  \n",
       "1          Fort Pierce    5.0              NaN  \n",
       "2          Fort Pierce    4.8  Errand/Supplies  \n",
       "3          Fort Pierce    4.7          Meeting  \n",
       "4      West Palm Beach   63.7   Customer Visit  \n",
       "...                ...    ...              ...  \n",
       "1150           Kar?chi    0.7          Meeting  \n",
       "1151  Unknown Location    3.9   Temporary Site  \n",
       "1152  Unknown Location   16.2          Meeting  \n",
       "1153           Gampaha    6.4   Temporary Site  \n",
       "1154         Ilukwatta   48.2   Temporary Site  \n",
       "\n",
       "[1155 rows x 7 columns]"
      ]
     },
     "execution_count": 8,
     "metadata": {},
     "output_type": "execute_result"
    }
   ],
   "source": [
    "df.dropna(inplace=True)\n",
    "df_cleaned = df\n",
    "df_cleaned"
   ]
  },
  {
   "cell_type": "markdown",
   "id": "4bdc5859",
   "metadata": {},
   "source": [
    "## Visualizations"
   ]
  },
  {
   "cell_type": "markdown",
   "id": "b1bd1abb",
   "metadata": {},
   "source": [
    "### Frequency of trips by category"
   ]
  },
  {
   "cell_type": "code",
   "execution_count": 9,
   "id": "9b14383c",
   "metadata": {},
   "outputs": [
    {
     "data": {
      "image/png": "[encoded data removed]",
      "text/plain": [
       "<Figure size 800x600 with 1 Axes>"
      ]
     },
     "metadata": {},
     "output_type": "display_data"
    },
    {
     "name": "stdout",
     "output_type": "stream",
     "text": [
      "\n",
      "Percentage of Trips by Category:\n",
      "CATEGORY\n",
      "Business    93.333333\n",
      "Personal     6.666667\n",
      "Name: proportion, dtype: float64\n"
     ]
    }
   ],
   "source": [
    "import seaborn as sns\n",
    "import matplotlib.pyplot as plt\n",
    "import pandas as pd\n",
    "\n",
    "# Set plot \n",
    "sns.set_theme(style=\"whitegrid\")\n",
    "\n",
    "#bar graph\n",
    "plt.figure(figsize=(8, 6))\n",
    "sns.countplot(data=df_cleaned, x='CATEGORY', hue='CATEGORY', palette='Set2', legend=False)\n",
    "plt.title('Frequency of Trips by Category', fontsize=14)\n",
    "plt.xlabel('Category', fontsize=12)\n",
    "plt.ylabel('Number of Trips', fontsize=12)\n",
    "\n",
    "# Save fig\n",
    "plt.savefig('C:/Users/archi/OneDrive/Documents/Coding/Python/Projects/HexSoftwares_Exploratory_Data_Analysis/visualizations/category_barplot.png', dpi=300, bbox_inches='tight')\n",
    "plt.show()\n",
    "\n",
    "# Percentage breakdown\n",
    "category_counts = df['CATEGORY'].value_counts(normalize=True) * 100\n",
    "print(\"\\nPercentage of Trips by Category:\")\n",
    "print(category_counts)"
   ]
  },
  {
   "cell_type": "markdown",
   "id": "b8b5eae4",
   "metadata": {},
   "source": [
    "**Distribution:** From the Above bar graph about 93.33% are business trips while personal trips are 6.66%"
   ]
  },
  {
   "cell_type": "markdown",
   "id": "4125e6b4",
   "metadata": {},
   "source": [
    "### Frequency of Trips by Purpose"
   ]
  },
  {
   "cell_type": "code",
   "execution_count": 10,
   "id": "2cd64068",
   "metadata": {},
   "outputs": [
    {
     "data": {
      "image/png": "[encoded data removed]",
      "text/plain": [
       "<Figure size 1200x600 with 1 Axes>"
      ]
     },
     "metadata": {},
     "output_type": "display_data"
    },
    {
     "name": "stdout",
     "output_type": "stream",
     "text": [
      "\n",
      "Percentage of Trips by purpose\n",
      "PURPOSE\n",
      "NaN                43.463203\n",
      "Meeting            16.190476\n",
      "Meal/Entertain     13.852814\n",
      "Errand/Supplies    11.082251\n",
      "Customer Visit      8.744589\n",
      "Temporary Site      4.329004\n",
      "Between Offices     1.558442\n",
      "Moving              0.346320\n",
      "Airport/Travel      0.259740\n",
      "Commute             0.086580\n",
      "Charity ($)         0.086580\n",
      "Name: proportion, dtype: float64\n"
     ]
    }
   ],
   "source": [
    "sns.set_theme(style=\"whitegrid\")\n",
    "\n",
    "# Create bar plot \n",
    "plt.figure(figsize=(12, 6))\n",
    "sns.countplot(data=df_cleaned, x='PURPOSE', hue='PURPOSE', palette='Set3', legend=False)\n",
    "plt.title('Frequency of Trips by Purpose', fontsize=14)\n",
    "plt.xlabel('Purpose', fontsize=12)\n",
    "plt.ylabel('Number of Trips', fontsize=12)\n",
    "plt.xticks(rotation=45, ha='right')  # Rotate x-axis labels \n",
    "\n",
    "ax = plt.gca()\n",
    "for p in ax.patches:\n",
    "    ax.annotate(f'{int(p.get_height())}', \n",
    "                (p.get_x() + p.get_width() / 2., p.get_height()), \n",
    "                ha='center', va='bottom', fontsize=10)\n",
    "\n",
    "# Save \n",
    "plt.savefig('C:/Users/archi/OneDrive/Documents/Coding/Python/Projects/HexSoftwares_Exploratory_Data_Analysis/visualizations/purpose_barplot.png', dpi=300, bbox_inches='tight')\n",
    "plt.show()\n",
    "\n",
    "# Percentage breakdown\n",
    "purpose_counts = df_cleaned['PURPOSE'].value_counts(normalize=True) * 100\n",
    "print(\"\\nPercentage of Trips by purpose\")\n",
    "print(purpose_counts)"
   ]
  },
  {
   "cell_type": "markdown",
   "id": "35021ea0",
   "metadata": {},
   "source": [
    "**Distribution:** From the above graph, neglecting the NaN values, Most trips by purpose constitute for Meeting i.e 183 trips and the next trip to that is for meal/entertainment i.e around 160 trips\n"
   ]
  },
  {
   "cell_type": "markdown",
   "id": "94de66bf",
   "metadata": {},
   "source": [
    "### Average Trip Distance by Purpose"
   ]
  },
  {
   "cell_type": "code",
   "execution_count": 11,
   "id": "e3573845",
   "metadata": {},
   "outputs": [
    {
     "data": {
      "image/png": "[encoded data removed]",
      "text/plain": [
       "<Figure size 1200x600 with 1 Axes>"
      ]
     },
     "metadata": {},
     "output_type": "display_data"
    },
    {
     "name": "stdout",
     "output_type": "stream",
     "text": [
      "\n",
      "Summary of Average Miles by Purpose:\n",
      "            PURPOSE       MILES\n",
      "3           Commute  180.200000\n",
      "4    Customer Visit   20.688119\n",
      "7           Meeting   15.247594\n",
      "2       Charity ($)   15.100000\n",
      "1   Between Offices   10.944444\n",
      "10   Temporary Site   10.474000\n",
      "9               NaN    9.748008\n",
      "6    Meal/Entertain    5.698125\n",
      "0    Airport/Travel    5.500000\n",
      "8            Moving    4.550000\n",
      "5   Errand/Supplies    3.968750\n"
     ]
    }
   ],
   "source": [
    "\n",
    "# Calculate mean MILES by PURPOSE\n",
    "avg_miles_by_purpose = df_cleaned.groupby('PURPOSE')['MILES'].mean().reset_index()\n",
    "\n",
    "sns.set_theme(style=\"whitegrid\")\n",
    "\n",
    "# bar graph of average MILES by PURPOSE\n",
    "plt.figure(figsize=(12, 6))\n",
    "sns.barplot(data=avg_miles_by_purpose, x='PURPOSE', y='MILES', hue='PURPOSE', palette='Set3', legend=False)\n",
    "plt.title('Average Trip Distance by Purpose', fontsize=14)\n",
    "plt.xlabel('Purpose', fontsize=12)\n",
    "plt.ylabel('Average Distance (Miles)', fontsize=12)\n",
    "plt.xticks(rotation=45, ha='right')  # Rotate x-axis labels \n",
    "\n",
    "# Label exact values on top of each bar\n",
    "ax = plt.gca()\n",
    "for p in ax.patches:\n",
    "    ax.annotate(f'{p.get_height():.1f}', \n",
    "                (p.get_x() + p.get_width() / 2., p.get_height()), \n",
    "                ha='center', va='bottom', fontsize=10)\n",
    "\n",
    "# Save the image\n",
    "plt.savefig('C:/Users/archi/OneDrive/Documents/Coding/Python/Projects/HexSoftwares_Exploratory_Data_Analysis/visualizations/avg_miles_by_purpose.png', dpi=300, bbox_inches='tight')\n",
    "plt.show()\n",
    "\n",
    "# Summary \n",
    "print(\"\\nSummary of Average Miles by Purpose:\")\n",
    "print(avg_miles_by_purpose.sort_values(by='MILES', ascending=False))"
   ]
  },
  {
   "cell_type": "markdown",
   "id": "f9261f04",
   "metadata": {},
   "source": [
    "**Distribution:** From the above visualization, we can see the main purpose of travelling by Uber is for commute by taking the average of the miles travelled grouped by purpose"
   ]
  },
  {
   "cell_type": "markdown",
   "id": "58d4302e",
   "metadata": {},
   "source": [
    "### Number of Trips by Hour of Day"
   ]
  },
  {
   "cell_type": "code",
   "execution_count": 21,
   "id": "881deee1",
   "metadata": {},
   "outputs": [
    {
     "name": "stdout",
     "output_type": "stream",
     "text": [
      "Cleaned Dataset Summary:\n",
      "Total rows: 1155\n",
      "START_DATE data type: datetime64[ns]\n",
      "Missing values in START_DATE: 0\n"
     ]
    },
    {
     "data": {
      "application/vnd.plotly.v1+json": {
       "config": {
        "plotlyServerURL": "https://plot.ly"
       },
       "data": [
        {
         "hovertemplate": "Hour of Day=%{x}<br>Number of Trips=%{y}<extra></extra>",
         "legendgroup": "",
         "line": {
          "color": "#636efa",
          "dash": "solid"
         },
         "marker": {
          "symbol": "circle"
         },
         "mode": "lines+markers",
         "name": "",
         "orientation": "v",
         "showlegend": false,
         "type": "scatter",
         "x": {
          "bdata": "AAAAAAEAAAACAAAAAwAAAAUAAAAGAAAABwAAAAgAAAAJAAAACgAAAAsAAAAMAAAADQAAAA4AAAAPAAAAEAAAABEAAAASAAAAEwAAABQAAAAVAAAAFgAAABcAAAA=",
          "dtype": "i4"
         },
         "xaxis": "x",
         "y": {
          "bdata": "EwUCAwQEDSMzQUhNXlliWF9eREczHxo=",
          "dtype": "i1"
         },
         "yaxis": "y"
        }
       ],
       "layout": {
        "legend": {
         "tracegroupgap": 0
        },
        "showlegend": false,
        "template": {
         "data": {
          "bar": [
           {
            "error_x": {
             "color": "#2a3f5f"
            },
            "error_y": {
             "color": "#2a3f5f"
            },
            "marker": {
             "line": {
              "color": "#E5ECF6",
              "width": 0.5
             },
             "pattern": {
              "fillmode": "overlay",
              "size": 10,
              "solidity": 0.2
             }
            },
            "type": "bar"
           }
          ],
          "barpolar": [
           {
            "marker": {
             "line": {
              "color": "#E5ECF6",
              "width": 0.5
             },
             "pattern": {
              "fillmode": "overlay",
              "size": 10,
              "solidity": 0.2
             }
            },
            "type": "barpolar"
           }
          ],
          "carpet": [
           {
            "aaxis": {
             "endlinecolor": "#2a3f5f",
             "gridcolor": "white",
             "linecolor": "white",
             "minorgridcolor": "white",
             "startlinecolor": "#2a3f5f"
            },
            "baxis": {
             "endlinecolor": "#2a3f5f",
             "gridcolor": "white",
             "linecolor": "white",
             "minorgridcolor": "white",
             "startlinecolor": "#2a3f5f"
            },
            "type": "carpet"
           }
          ],
          "choropleth": [
           {
            "colorbar": {
             "outlinewidth": 0,
             "ticks": ""
            },
            "type": "choropleth"
           }
          ],
          "contour": [
           {
            "colorbar": {
             "outlinewidth": 0,
             "ticks": ""
            },
            "colorscale": [
             [
              0,
              "#0d0887"
             ],
             [
              0.1111111111111111,
              "#46039f"
             ],
             [
              0.2222222222222222,
              "#7201a8"
             ],
             [
              0.3333333333333333,
              "#9c179e"
             ],
             [
              0.4444444444444444,
              "#bd3786"
             ],
             [
              0.5555555555555556,
              "#d8576b"
             ],
             [
              0.6666666666666666,
              "#ed7953"
             ],
             [
              0.7777777777777778,
              "#fb9f3a"
             ],
             [
              0.8888888888888888,
              "#fdca26"
             ],
             [
              1,
              "#f0f921"
             ]
            ],
            "type": "contour"
           }
          ],
          "contourcarpet": [
           {
            "colorbar": {
             "outlinewidth": 0,
             "ticks": ""
            },
            "type": "contourcarpet"
           }
          ],
          "heatmap": [
           {
            "colorbar": {
             "outlinewidth": 0,
             "ticks": ""
            },
            "colorscale": [
             [
              0,
              "#0d0887"
             ],
             [
              0.1111111111111111,
              "#46039f"
             ],
             [
              0.2222222222222222,
              "#7201a8"
             ],
             [
              0.3333333333333333,
              "#9c179e"
             ],
             [
              0.4444444444444444,
              "#bd3786"
             ],
             [
              0.5555555555555556,
              "#d8576b"
             ],
             [
              0.6666666666666666,
              "#ed7953"
             ],
             [
              0.7777777777777778,
              "#fb9f3a"
             ],
             [
              0.8888888888888888,
              "#fdca26"
             ],
             [
              1,
              "#f0f921"
             ]
            ],
            "type": "heatmap"
           }
          ],
          "histogram": [
           {
            "marker": {
             "pattern": {
              "fillmode": "overlay",
              "size": 10,
              "solidity": 0.2
             }
            },
            "type": "histogram"
           }
          ],
          "histogram2d": [
           {
            "colorbar": {
             "outlinewidth": 0,
             "ticks": ""
            },
            "colorscale": [
             [
              0,
              "#0d0887"
             ],
             [
              0.1111111111111111,
              "#46039f"
             ],
             [
              0.2222222222222222,
              "#7201a8"
             ],
             [
              0.3333333333333333,
              "#9c179e"
             ],
             [
              0.4444444444444444,
              "#bd3786"
             ],
             [
              0.5555555555555556,
              "#d8576b"
             ],
             [
              0.6666666666666666,
              "#ed7953"
             ],
             [
              0.7777777777777778,
              "#fb9f3a"
             ],
             [
              0.8888888888888888,
              "#fdca26"
             ],
             [
              1,
              "#f0f921"
             ]
            ],
            "type": "histogram2d"
           }
          ],
          "histogram2dcontour": [
           {
            "colorbar": {
             "outlinewidth": 0,
             "ticks": ""
            },
            "colorscale": [
             [
              0,
              "#0d0887"
             ],
             [
              0.1111111111111111,
              "#46039f"
             ],
             [
              0.2222222222222222,
              "#7201a8"
             ],
             [
              0.3333333333333333,
              "#9c179e"
             ],
             [
              0.4444444444444444,
              "#bd3786"
             ],
             [
              0.5555555555555556,
              "#d8576b"
             ],
             [
              0.6666666666666666,
              "#ed7953"
             ],
             [
              0.7777777777777778,
              "#fb9f3a"
             ],
             [
              0.8888888888888888,
              "#fdca26"
             ],
             [
              1,
              "#f0f921"
             ]
            ],
            "type": "histogram2dcontour"
           }
          ],
          "mesh3d": [
           {
            "colorbar": {
             "outlinewidth": 0,
             "ticks": ""
            },
            "type": "mesh3d"
           }
          ],
          "parcoords": [
           {
            "line": {
             "colorbar": {
              "outlinewidth": 0,
              "ticks": ""
             }
            },
            "type": "parcoords"
           }
          ],
          "pie": [
           {
            "automargin": true,
            "type": "pie"
           }
          ],
          "scatter": [
           {
            "fillpattern": {
             "fillmode": "overlay",
             "size": 10,
             "solidity": 0.2
            },
            "type": "scatter"
           }
          ],
          "scatter3d": [
           {
            "line": {
             "colorbar": {
              "outlinewidth": 0,
              "ticks": ""
             }
            },
            "marker": {
             "colorbar": {
              "outlinewidth": 0,
              "ticks": ""
             }
            },
            "type": "scatter3d"
           }
          ],
          "scattercarpet": [
           {
            "marker": {
             "colorbar": {
              "outlinewidth": 0,
              "ticks": ""
             }
            },
            "type": "scattercarpet"
           }
          ],
          "scattergeo": [
           {
            "marker": {
             "colorbar": {
              "outlinewidth": 0,
              "ticks": ""
             }
            },
            "type": "scattergeo"
           }
          ],
          "scattergl": [
           {
            "marker": {
             "colorbar": {
              "outlinewidth": 0,
              "ticks": ""
             }
            },
            "type": "scattergl"
           }
          ],
          "scattermap": [
           {
            "marker": {
             "colorbar": {
              "outlinewidth": 0,
              "ticks": ""
             }
            },
            "type": "scattermap"
           }
          ],
          "scattermapbox": [
           {
            "marker": {
             "colorbar": {
              "outlinewidth": 0,
              "ticks": ""
             }
            },
            "type": "scattermapbox"
           }
          ],
          "scatterpolar": [
           {
            "marker": {
             "colorbar": {
              "outlinewidth": 0,
              "ticks": ""
             }
            },
            "type": "scatterpolar"
           }
          ],
          "scatterpolargl": [
           {
            "marker": {
             "colorbar": {
              "outlinewidth": 0,
              "ticks": ""
             }
            },
            "type": "scatterpolargl"
           }
          ],
          "scatterternary": [
           {
            "marker": {
             "colorbar": {
              "outlinewidth": 0,
              "ticks": ""
             }
            },
            "type": "scatterternary"
           }
          ],
          "surface": [
           {
            "colorbar": {
             "outlinewidth": 0,
             "ticks": ""
            },
            "colorscale": [
             [
              0,
              "#0d0887"
             ],
             [
              0.1111111111111111,
              "#46039f"
             ],
             [
              0.2222222222222222,
              "#7201a8"
             ],
             [
              0.3333333333333333,
              "#9c179e"
             ],
             [
              0.4444444444444444,
              "#bd3786"
             ],
             [
              0.5555555555555556,
              "#d8576b"
             ],
             [
              0.6666666666666666,
              "#ed7953"
             ],
             [
              0.7777777777777778,
              "#fb9f3a"
             ],
             [
              0.8888888888888888,
              "#fdca26"
             ],
             [
              1,
              "#f0f921"
             ]
            ],
            "type": "surface"
           }
          ],
          "table": [
           {
            "cells": {
             "fill": {
              "color": "#EBF0F8"
             },
             "line": {
              "color": "white"
             }
            },
            "header": {
             "fill": {
              "color": "#C8D4E3"
             },
             "line": {
              "color": "white"
             }
            },
            "type": "table"
           }
          ]
         },
         "layout": {
          "annotationdefaults": {
           "arrowcolor": "#2a3f5f",
           "arrowhead": 0,
           "arrowwidth": 1
          },
          "autotypenumbers": "strict",
          "coloraxis": {
           "colorbar": {
            "outlinewidth": 0,
            "ticks": ""
           }
          },
          "colorscale": {
           "diverging": [
            [
             0,
             "#8e0152"
            ],
            [
             0.1,
             "#c51b7d"
            ],
            [
             0.2,
             "#de77ae"
            ],
            [
             0.3,
             "#f1b6da"
            ],
            [
             0.4,
             "#fde0ef"
            ],
            [
             0.5,
             "#f7f7f7"
            ],
            [
             0.6,
             "#e6f5d0"
            ],
            [
             0.7,
             "#b8e186"
            ],
            [
             0.8,
             "#7fbc41"
            ],
            [
             0.9,
             "#4d9221"
            ],
            [
             1,
             "#276419"
            ]
           ],
           "sequential": [
            [
             0,
             "#0d0887"
            ],
            [
             0.1111111111111111,
             "#46039f"
            ],
            [
             0.2222222222222222,
             "#7201a8"
            ],
            [
             0.3333333333333333,
             "#9c179e"
            ],
            [
             0.4444444444444444,
             "#bd3786"
            ],
            [
             0.5555555555555556,
             "#d8576b"
            ],
            [
             0.6666666666666666,
             "#ed7953"
            ],
            [
             0.7777777777777778,
             "#fb9f3a"
            ],
            [
             0.8888888888888888,
             "#fdca26"
            ],
            [
             1,
             "#f0f921"
            ]
           ],
           "sequentialminus": [
            [
             0,
             "#0d0887"
            ],
            [
             0.1111111111111111,
             "#46039f"
            ],
            [
             0.2222222222222222,
             "#7201a8"
            ],
            [
             0.3333333333333333,
             "#9c179e"
            ],
            [
             0.4444444444444444,
             "#bd3786"
            ],
            [
             0.5555555555555556,
             "#d8576b"
            ],
            [
             0.6666666666666666,
             "#ed7953"
            ],
            [
             0.7777777777777778,
             "#fb9f3a"
            ],
            [
             0.8888888888888888,
             "#fdca26"
            ],
            [
             1,
             "#f0f921"
            ]
           ]
          },
          "colorway": [
           "#636efa",
           "#EF553B",
           "#00cc96",
           "#ab63fa",
           "#FFA15A",
           "#19d3f3",
           "#FF6692",
           "#B6E880",
           "#FF97FF",
           "#FECB52"
          ],
          "font": {
           "color": "#2a3f5f"
          },
          "geo": {
           "bgcolor": "white",
           "lakecolor": "white",
           "landcolor": "#E5ECF6",
           "showlakes": true,
           "showland": true,
           "subunitcolor": "white"
          },
          "hoverlabel": {
           "align": "left"
          },
          "hovermode": "closest",
          "mapbox": {
           "style": "light"
          },
          "paper_bgcolor": "white",
          "plot_bgcolor": "#E5ECF6",
          "polar": {
           "angularaxis": {
            "gridcolor": "white",
            "linecolor": "white",
            "ticks": ""
           },
           "bgcolor": "#E5ECF6",
           "radialaxis": {
            "gridcolor": "white",
            "linecolor": "white",
            "ticks": ""
           }
          },
          "scene": {
           "xaxis": {
            "backgroundcolor": "#E5ECF6",
            "gridcolor": "white",
            "gridwidth": 2,
            "linecolor": "white",
            "showbackground": true,
            "ticks": "",
            "zerolinecolor": "white"
           },
           "yaxis": {
            "backgroundcolor": "#E5ECF6",
            "gridcolor": "white",
            "gridwidth": 2,
            "linecolor": "white",
            "showbackground": true,
            "ticks": "",
            "zerolinecolor": "white"
           },
           "zaxis": {
            "backgroundcolor": "#E5ECF6",
            "gridcolor": "white",
            "gridwidth": 2,
            "linecolor": "white",
            "showbackground": true,
            "ticks": "",
            "zerolinecolor": "white"
           }
          },
          "shapedefaults": {
           "line": {
            "color": "#2a3f5f"
           }
          },
          "ternary": {
           "aaxis": {
            "gridcolor": "white",
            "linecolor": "white",
            "ticks": ""
           },
           "baxis": {
            "gridcolor": "white",
            "linecolor": "white",
            "ticks": ""
           },
           "bgcolor": "#E5ECF6",
           "caxis": {
            "gridcolor": "white",
            "linecolor": "white",
            "ticks": ""
           }
          },
          "title": {
           "x": 0.05
          },
          "xaxis": {
           "automargin": true,
           "gridcolor": "white",
           "linecolor": "white",
           "ticks": "",
           "title": {
            "standoff": 15
           },
           "zerolinecolor": "white",
           "zerolinewidth": 2
          },
          "yaxis": {
           "automargin": true,
           "gridcolor": "white",
           "linecolor": "white",
           "ticks": "",
           "title": {
            "standoff": 15
           },
           "zerolinecolor": "white",
           "zerolinewidth": 2
          }
         }
        },
        "title": {
         "font": {
          "size": 14
         },
         "text": "Number of Trips by Hour of Day"
        },
        "xaxis": {
         "anchor": "y",
         "domain": [
          0,
          1
         ],
         "dtick": 1,
         "tick0": 0,
         "tickmode": "linear",
         "title": {
          "text": "Hour of Day"
         }
        },
        "yaxis": {
         "anchor": "x",
         "domain": [
          0,
          1
         ],
         "title": {
          "text": "Number of Trips"
         }
        }
       }
      }
     },
     "metadata": {},
     "output_type": "display_data"
    }
   ],
   "source": [
    "import plotly.express as px\n",
    "\n",
    "# Verify df_cleaned and START_DATE\n",
    "print(\"Cleaned Dataset Summary:\")\n",
    "print(\"Total rows:\", len(df_cleaned))\n",
    "print(\"START_DATE data type:\", df_cleaned['START_DATE'].dtype)\n",
    "print(\"Missing values in START_DATE:\", df_cleaned['START_DATE'].isnull().sum())\n",
    "\n",
    "# Extract hour from START_DATE\n",
    "df_cleaned['HOUR'] = df_cleaned['START_DATE'].dt.hour\n",
    "\n",
    "# Trips coutned by hour\n",
    "trips_by_hour = df_cleaned.groupby('HOUR').size().reset_index(name='Trip Count')\n",
    "\n",
    "# # Verify trip counts\n",
    "# print(trips_by_hour)\n",
    "\n",
    "# Create line plot with plotly\n",
    "fig = px.line(trips_by_hour, x='HOUR', y='Trip Count', \n",
    "              title='Number of Trips by Hour of Day',\n",
    "              labels={'HOUR': 'Hour of Day', 'Trip Count': 'Number of Trips'},\n",
    "              markers=True)\n",
    "\n",
    "# Update layout \n",
    "fig.update_layout(\n",
    "    xaxis_title=\"Hour of Day\",\n",
    "    yaxis_title=\"Number of Trips\",\n",
    "    xaxis=dict(tickmode='linear', tick0=0, dtick=1),\n",
    "    title_font_size=14,\n",
    "    showlegend=False\n",
    ")\n",
    "\n",
    "\n",
    "fig.show()\n",
    "\n",
    "# Save the plot \n",
    "fig.write_image('C:/Users/archi/OneDrive/Documents/Coding/Python/Projects/HexSoftwares_Exploratory_Data_Analysis/visualizations/trips_by_hour.png', scale=3)"
   ]
  },
  {
   "cell_type": "markdown",
   "id": "d576b333",
   "metadata": {},
   "source": [
    "**Distribution**: Trip frequency peaks during business hours (e.g., 9 AM–5 PM, with highest counts around 13:00–16:00), reflecting the dataset’s focus on Business trips. Fewer trips occur at night (e.g., 0:00–5:00)."
   ]
  },
  {
   "cell_type": "markdown",
   "id": "5c423a71",
   "metadata": {},
   "source": [
    "### Trips by Hour and Day of Week"
   ]
  },
  {
   "cell_type": "code",
   "execution_count": 22,
   "id": "d2d84154",
   "metadata": {},
   "outputs": [
    {
     "name": "stdout",
     "output_type": "stream",
     "text": [
      "Cleaned Dataset Summary:\n",
      "Total rows: 1155\n",
      "START_DATE data type: datetime64[ns]\n",
      "Missing values in START_DATE: 0\n"
     ]
    },
    {
     "data": {
      "image/png": "[encoded data removed]",
      "text/plain": [
       "<Figure size 1200x800 with 2 Axes>"
      ]
     },
     "metadata": {},
     "output_type": "display_data"
    }
   ],
   "source": [
    "# Verify df_cleaned\n",
    "print(\"Cleaned Dataset Summary:\")\n",
    "print(\"Total rows:\", len(df_cleaned))\n",
    "print(\"START_DATE data type:\", df_cleaned['START_DATE'].dtype)\n",
    "print(\"Missing values in START_DATE:\", df_cleaned['START_DATE'].isnull().sum())\n",
    "\n",
    "# Extract hour and day of week from START_DATE\n",
    "df_cleaned['HOUR'] = df_cleaned['START_DATE'].dt.hour\n",
    "df_cleaned['DAY_OF_WEEK'] = df_cleaned['START_DATE'].dt.day_name()\n",
    "\n",
    "# Pivot table for heatmap\n",
    "pivot_table = df_cleaned.pivot_table(\n",
    "    index='HOUR',\n",
    "    columns='DAY_OF_WEEK',\n",
    "    values='MILES',  # Use any column for counting\n",
    "    aggfunc='count',\n",
    "    fill_value=0\n",
    ").reindex(\n",
    "    index=range(24),  # 0 to 23 hours\n",
    "    columns=['Monday', 'Tuesday', 'Wednesday', 'Thursday', 'Friday', 'Saturday', 'Sunday'],  # Order days\n",
    "    fill_value=0\n",
    ")\n",
    "\n",
    "# Verify pivot table\n",
    "# print(\"\\nPivot Table (Trips by Hour and Day of Week):\")\n",
    "# print(pivot_table)\n",
    "\n",
    "# Set seaborn theme\n",
    "sns.set_theme(style=\"whitegrid\")\n",
    "\n",
    "# Heatmap\n",
    "plt.figure(figsize=(12, 8))\n",
    "sns.heatmap(pivot_table, cmap='YlOrRd', annot=True, fmt='d', cbar_kws={'label': 'Number of Trips'})\n",
    "plt.title('Trips by Hour and Day of Week', fontsize=14)\n",
    "plt.xlabel('Day of Week', fontsize=12)\n",
    "plt.ylabel('Hour of Day', fontsize=12)\n",
    "\n",
    "# Save the plot \n",
    "plt.savefig('C:/Users/archi/OneDrive/Documents/Coding/Python/Projects/HexSoftwares_Exploratory_Data_Analysis/visualizations/trips_by_hour_day.png', dpi=300, bbox_inches='tight')\n",
    "plt.show()"
   ]
  },
  {
   "cell_type": "markdown",
   "id": "cae4bd81",
   "metadata": {},
   "source": [
    "- **Distribution**: Trip frequency peaks during weekday business hours (e.g., 9:00–17:00, Monday–Friday), with the highest counts around 13:00–16:00 on weekdays"
   ]
  },
  {
   "cell_type": "markdown",
   "id": "7a2b6ca5",
   "metadata": {},
   "source": [
    "### Trip Distance vs. Duration"
   ]
  },
  {
   "cell_type": "code",
   "execution_count": 23,
   "id": "732fe501",
   "metadata": {},
   "outputs": [
    {
     "name": "stdout",
     "output_type": "stream",
     "text": [
      "Cleaned Dataset Summary:\n",
      "Total rows: 1155\n",
      "Missing values in MILES: 0\n",
      "Missing values in START_DATE: 0\n",
      "Missing values in END_DATE: 0\n",
      "Rows after filtering invalid durations: 1155\n"
     ]
    },
    {
     "data": {
      "application/vnd.plotly.v1+json": {
       "config": {
        "plotlyServerURL": "https://plot.ly"
       },
       "data": [
        {
         "customdata": [
          [
           "Meal/Entertain",
           "Fort Pierce",
           "Fort Pierce"
          ],
          [
           "NaN",
           "Fort Pierce",
           "Fort Pierce"
          ],
          [
           "Errand/Supplies",
           "Fort Pierce",
           "Fort Pierce"
          ],
          [
           "Meeting",
           "Fort Pierce",
           "Fort Pierce"
          ],
          [
           "Customer Visit",
           "Fort Pierce",
           "West Palm Beach"
          ],
          [
           "Meal/Entertain",
           "West Palm Beach",
           "West Palm Beach"
          ],
          [
           "Meeting",
           "West Palm Beach",
           "Palm Beach"
          ],
          [
           "Meeting",
           "Cary",
           "Cary"
          ],
          [
           "Meeting",
           "Cary",
           "Morrisville"
          ],
          [
           "Customer Visit",
           "Jamaica",
           "New York"
          ],
          [
           "Meeting",
           "New York",
           "Queens"
          ],
          [
           "Meeting",
           "Elmhurst",
           "New York"
          ],
          [
           "Meeting",
           "Midtown",
           "East Harlem"
          ],
          [
           "Temporary Site",
           "East Harlem",
           "NoMad"
          ],
          [
           "Errand/Supplies",
           "Flatiron District",
           "Midtown"
          ],
          [
           "Meal/Entertain",
           "Midtown",
           "Midtown East"
          ],
          [
           "Meal/Entertain",
           "Midtown East",
           "Midtown"
          ],
          [
           "Meal/Entertain",
           "Midtown",
           "Hudson Square"
          ],
          [
           "Meal/Entertain",
           "Hudson Square",
           "Lower Manhattan"
          ],
          [
           "Errand/Supplies",
           "Lower Manhattan",
           "Hudson Square"
          ],
          [
           "Customer Visit",
           "Hudson Square",
           "Hell's Kitchen"
          ],
          [
           "Errand/Supplies",
           "Hell's Kitchen",
           "Midtown"
          ],
          [
           "Meeting",
           "New York",
           "Queens County"
          ],
          [
           "Meeting",
           "Downtown",
           "Gulfton"
          ],
          [
           "Meeting",
           "Gulfton",
           "Downtown"
          ],
          [
           "Customer Visit",
           "Houston",
           "Houston"
          ],
          [
           "Errand/Supplies",
           "Eagan Park",
           "Jamestown Court"
          ],
          [
           "Errand/Supplies",
           "Morrisville",
           "Cary"
          ],
          [
           "Meal/Entertain",
           "Cary",
           "Durham"
          ],
          [
           "Meal/Entertain",
           "Durham",
           "Cary"
          ],
          [
           "Meal/Entertain",
           "Cary",
           "Cary"
          ],
          [
           "Meal/Entertain",
           "Farmington Woods",
           "Whitebridge"
          ],
          [
           "NaN",
           "Whitebridge",
           "Lake Wellingborough"
          ],
          [
           "Temporary Site",
           "Lake Wellingborough",
           "Whitebridge"
          ],
          [
           "Meeting",
           "Cary",
           "Raleigh"
          ],
          [
           "Meeting",
           "Fayetteville Street",
           "Umstead"
          ],
          [
           "Customer Visit",
           "Raleigh",
           "Cary"
          ],
          [
           "Errand/Supplies",
           "Cary",
           "Cary"
          ],
          [
           "Meal/Entertain",
           "Cary",
           "Cary"
          ],
          [
           "Meal/Entertain",
           "Cary",
           "Cary"
          ],
          [
           "Meal/Entertain",
           "Whitebridge",
           "Hazelwood"
          ],
          [
           "Errand/Supplies",
           "Hazelwood",
           "Whitebridge"
          ],
          [
           "Errand/Supplies",
           "Whitebridge",
           "Westpark Place"
          ],
          [
           "Errand/Supplies",
           "Cary",
           "Cary"
          ],
          [
           "Errand/Supplies",
           "Cary",
           "Cary"
          ],
          [
           "Meeting",
           "Cary",
           "Cary"
          ],
          [
           "Customer Visit",
           "Cary",
           "Raleigh"
          ],
          [
           "Customer Visit",
           "Fairmont",
           "Meredith Townes"
          ],
          [
           "Customer Visit",
           "Raleigh",
           "Raleigh"
          ],
          [
           "Customer Visit",
           "Raleigh",
           "Cary"
          ],
          [
           "Temporary Site",
           "Cary",
           "Raleigh"
          ],
          [
           "Meeting",
           "Meredith Townes",
           "Leesville Hollow"
          ],
          [
           "Meeting",
           "Raleigh",
           "Cary"
          ],
          [
           "Customer Visit",
           "Cary",
           "Cary"
          ],
          [
           "Meeting",
           "Cary",
           "Cary"
          ],
          [
           "Meeting",
           "Cary",
           "Durham"
          ],
          [
           "Meeting",
           "Durham",
           "Cary"
          ],
          [
           "Errand/Supplies",
           "Cary",
           "Apex"
          ],
          [
           "Meal/Entertain",
           "Apex",
           "Cary"
          ],
          [
           "Errand/Supplies",
           "Cary",
           "Apex"
          ],
          [
           "Customer Visit",
           "Apex",
           "Cary"
          ],
          [
           "Customer Visit",
           "Cary",
           "Chapel Hill"
          ],
          [
           "Customer Visit",
           "Chapel Hill",
           "Cary"
          ],
          [
           "Meal/Entertain",
           "Northwoods",
           "Whitebridge"
          ],
          [
           "Meeting",
           "Whitebridge",
           "Williamsburg Manor"
          ],
          [
           "Errand/Supplies",
           "Cary",
           "Cary"
          ],
          [
           "Errand/Supplies",
           "Cary",
           "Cary"
          ],
          [
           "Errand/Supplies",
           "Cary",
           "Morrisville"
          ],
          [
           "Meal/Entertain",
           "Morrisville",
           "Cary"
          ],
          [
           "Meal/Entertain",
           "Cary",
           "Cary"
          ],
          [
           "Meal/Entertain",
           "Cary",
           "Cary"
          ],
          [
           "Meal/Entertain",
           "Cary",
           "Cary"
          ],
          [
           "Meeting",
           "Whitebridge",
           "Macgregor Downs"
          ],
          [
           "Meeting",
           "Cary",
           "Cary"
          ],
          [
           "Meeting",
           "Cary",
           "Durham"
          ],
          [
           "Meeting",
           "Durham",
           "Cary"
          ],
          [
           "Between Offices",
           "Cary",
           "Raleigh"
          ],
          [
           "Errand/Supplies",
           "Raleigh",
           "Cary"
          ],
          [
           "Meal/Entertain",
           "Edgehill Farms",
           "Whitebridge"
          ],
          [
           "Errand/Supplies",
           "Cary",
           "Apex"
          ],
          [
           "Customer Visit",
           "Apex",
           "Cary"
          ],
          [
           "Temporary Site",
           "Cary",
           "Morrisville"
          ],
          [
           "Meeting",
           "Morrisville",
           "Cary"
          ],
          [
           "Meal/Entertain",
           "Whitebridge",
           "Edgehill Farms"
          ],
          [
           "Meal/Entertain",
           "Edgehill Farms",
           "Whitebridge"
          ],
          [
           "NaN",
           "Whitebridge",
           "Northwoods"
          ],
          [
           "NaN",
           "Northwoods",
           "Tanglewood"
          ],
          [
           "NaN",
           "Tanglewood",
           "Preston"
          ],
          [
           "NaN",
           "Preston",
           "Whitebridge"
          ],
          [
           "NaN",
           "Cary",
           "Morrisville"
          ],
          [
           "Meal/Entertain",
           "Morrisville",
           "Cary"
          ],
          [
           "Meal/Entertain",
           "Cary",
           "Raleigh"
          ],
          [
           "Meal/Entertain",
           "Eastgate",
           "Walnut Terrace"
          ],
          [
           "Temporary Site",
           "Raleigh",
           "Morrisville"
          ],
          [
           "Temporary Site",
           "Morrisville",
           "Cary"
          ],
          [
           "Temporary Site",
           "Cary",
           "Durham"
          ],
          [
           "Temporary Site",
           "Durham",
           "Morrisville"
          ],
          [
           "Customer Visit",
           "Morrisville",
           "Raleigh"
          ],
          [
           "Meeting",
           "Raleigh",
           "Cary"
          ],
          [
           "Meeting",
           "Cary",
           "Morrisville"
          ],
          [
           "Customer Visit",
           "Morrisville",
           "Cary"
          ],
          [
           "Meeting",
           "Cary",
           "Morrisville"
          ],
          [
           "NaN",
           "East Elmhurst",
           "Jackson Heights"
          ],
          [
           "NaN",
           "Jackson Heights",
           "East Elmhurst"
          ],
          [
           "Meeting",
           "East Elmhurst",
           "New York"
          ],
          [
           "Meeting",
           "Midtown",
           "Midtown West"
          ],
          [
           "Meeting",
           "New York",
           "Long Island City"
          ],
          [
           "Meeting",
           "Long Island City",
           "Jamaica"
          ],
          [
           "Customer Visit",
           "Katunayaka",
           "Unknown Location"
          ],
          [
           "NaN",
           "Unknown Location",
           "Colombo"
          ],
          [
           "NaN",
           "Colombo",
           "Colombo"
          ],
          [
           "NaN",
           "Colombo",
           "Colombo"
          ],
          [
           "NaN",
           "Colombo",
           "Colombo"
          ],
          [
           "Temporary Site",
           "Colombo",
           "Colombo"
          ],
          [
           "NaN",
           "Colombo",
           "Colombo"
          ],
          [
           "Meal/Entertain",
           "Colombo",
           "Nugegoda"
          ],
          [
           "Errand/Supplies",
           "Nugegoda",
           "Unknown Location"
          ],
          [
           "Temporary Site",
           "Unknown Location",
           "Colombo"
          ],
          [
           "Meal/Entertain",
           "Colombo",
           "Colombo"
          ],
          [
           "Temporary Site",
           "Colombo",
           "Katunayaka"
          ],
          [
           "Errand/Supplies",
           "Katunayaka",
           "Katunayaka"
          ],
          [
           "Temporary Site",
           "Unknown Location",
           "Unknown Location"
          ],
          [
           "Temporary Site",
           "Unknown Location",
           "Islamabad"
          ],
          [
           "Temporary Site",
           "Islamabad",
           "Unknown Location"
          ],
          [
           "Customer Visit",
           "Unknown Location",
           "Islamabad"
          ],
          [
           "Meeting",
           "Islamabad",
           "Unknown Location"
          ],
          [
           "Meeting",
           "Unknown Location",
           "Unknown Location"
          ],
          [
           "Meeting",
           "Unknown Location",
           "Unknown Location"
          ],
          [
           "Meeting",
           "Unknown Location",
           "Islamabad"
          ],
          [
           "NaN",
           "Islamabad",
           "Islamabad"
          ],
          [
           "NaN",
           "Islamabad",
           "Islamabad"
          ],
          [
           "Temporary Site",
           "Islamabad",
           "Unknown Location"
          ],
          [
           "NaN",
           "Unknown Location",
           "Islamabad"
          ],
          [
           "NaN",
           "Islamabad",
           "Islamabad"
          ],
          [
           "NaN",
           "Islamabad",
           "Unknown Location"
          ],
          [
           "NaN",
           "Unknown Location",
           "Unknown Location"
          ],
          [
           "NaN",
           "Unknown Location",
           "Islamabad"
          ],
          [
           "NaN",
           "Islamabad",
           "Islamabad"
          ],
          [
           "NaN",
           "Islamabad",
           "Islamabad"
          ],
          [
           "NaN",
           "Islamabad",
           "R?walpindi"
          ],
          [
           "Meeting",
           "R?walpindi",
           "R?walpindi"
          ],
          [
           "NaN",
           "R?walpindi",
           "Unknown Location"
          ],
          [
           "Errand/Supplies",
           "Unknown Location",
           "Unknown Location"
          ],
          [
           "Errand/Supplies",
           "Unknown Location",
           "Unknown Location"
          ],
          [
           "NaN",
           "Unknown Location",
           "Islamabad"
          ],
          [
           "Errand/Supplies",
           "Unknown Location",
           "Islamabad"
          ],
          [
           "Errand/Supplies",
           "Islamabad",
           "Islamabad"
          ],
          [
           "Meal/Entertain",
           "Islamabad",
           "Unknown Location"
          ],
          [
           "Temporary Site",
           "Unknown Location",
           "Unknown Location"
          ],
          [
           "Temporary Site",
           "Unknown Location",
           "Unknown Location"
          ],
          [
           "Temporary Site",
           "Unknown Location",
           "Islamabad"
          ],
          [
           "Temporary Site",
           "Islamabad",
           "Noorpur Shahan"
          ],
          [
           "Meal/Entertain",
           "Noorpur Shahan",
           "Unknown Location"
          ],
          [
           "NaN",
           "Unknown Location",
           "Unknown Location"
          ],
          [
           "Meeting",
           "Unknown Location",
           "R?walpindi"
          ],
          [
           "Customer Visit",
           "Morrisville",
           "Cary"
          ],
          [
           "NaN",
           "Whitebridge",
           "Preston"
          ],
          [
           "Errand/Supplies",
           "Preston",
           "Whitebridge"
          ],
          [
           "Errand/Supplies",
           "Whitebridge",
           "Heritage Pines"
          ],
          [
           "Errand/Supplies",
           "Heritage Pines",
           "Whitebridge"
          ],
          [
           "Meal/Entertain",
           "Whitebridge",
           "Tanglewood"
          ],
          [
           "Meal/Entertain",
           "Tanglewood",
           "Whitebridge"
          ],
          [
           "NaN",
           "Whitebridge",
           "Westpark Place"
          ],
          [
           "NaN",
           "Westpark Place",
           "Whitebridge"
          ],
          [
           "Meeting",
           "Cary",
           "Durham"
          ],
          [
           "Meeting",
           "Durham",
           "Cary"
          ],
          [
           "NaN",
           "Whitebridge",
           "Westpark Place"
          ],
          [
           "NaN",
           "Westpark Place",
           "Hazelwood"
          ],
          [
           "NaN",
           "Hazelwood",
           "Whitebridge"
          ],
          [
           "Meeting",
           "Whitebridge",
           "Waverly Place"
          ],
          [
           "Meeting",
           "Waverly Place",
           "Whitebridge"
          ],
          [
           "NaN",
           "Whitebridge",
           "Westpark Place"
          ],
          [
           "Meeting",
           "Cary",
           "Apex"
          ],
          [
           "Meeting",
           "Apex",
           "Cary"
          ],
          [
           "NaN",
           "Whitebridge",
           "Hazelwood"
          ],
          [
           "Customer Visit",
           "Hazelwood",
           "Whitebridge"
          ],
          [
           "Meal/Entertain",
           "Whitebridge",
           "Wayne Ridge"
          ],
          [
           "Meeting",
           "Wayne Ridge",
           "Whitebridge"
          ],
          [
           "NaN",
           "Whitebridge",
           "Westpark Place"
          ],
          [
           "Errand/Supplies",
           "Westpark Place",
           "Whitebridge"
          ],
          [
           "Meal/Entertain",
           "Whitebridge",
           "Northwoods"
          ],
          [
           "Customer Visit",
           "Cary",
           "Raleigh"
          ],
          [
           "Meeting",
           "Raleigh",
           "Cary"
          ],
          [
           "Meeting",
           "Cary",
           "Durham"
          ],
          [
           "Customer Visit",
           "Durham",
           "Cary"
          ],
          [
           "Meeting",
           "Cary",
           "Durham"
          ],
          [
           "Meeting",
           "Durham",
           "Cary"
          ],
          [
           "Customer Visit",
           "Cary",
           "Raleigh"
          ],
          [
           "Meal/Entertain",
           "Raleigh",
           "Raleigh"
          ],
          [
           "Errand/Supplies",
           "Fayetteville Street",
           "Depot Historic District"
          ],
          [
           "Meeting",
           "Raleigh",
           "Cary"
          ],
          [
           "Temporary Site",
           "Cary",
           "Morrisville"
          ],
          [
           "Meal/Entertain",
           "Morrisville",
           "Cary"
          ],
          [
           "Meal/Entertain",
           "Cary",
           "Morrisville"
          ],
          [
           "NaN",
           "Weston",
           "Weston"
          ],
          [
           "NaN",
           "Morrisville",
           "Cary"
          ],
          [
           "Meal/Entertain",
           "Whitebridge",
           "Wayne Ridge"
          ],
          [
           "Meal/Entertain",
           "Cary",
           "Morrisville"
          ],
          [
           "Meal/Entertain",
           "Morrisville",
           "Cary"
          ],
          [
           "Errand/Supplies",
           "Whitebridge",
           "Edgehill Farms"
          ],
          [
           "Customer Visit",
           "Cary",
           "Raleigh"
          ],
          [
           "Customer Visit",
           "Fayetteville Street",
           "Meredith Townes"
          ],
          [
           "Meeting",
           "Meredith Townes",
           "Leesville Hollow"
          ],
          [
           "Between Offices",
           "Raleigh",
           "Cary"
          ],
          [
           "Between Offices",
           "Whitebridge",
           "Waverly Place"
          ],
          [
           "Meal/Entertain",
           "Waverly Place",
           "Whitebridge"
          ],
          [
           "NaN",
           "Whitebridge",
           "Whitebridge"
          ],
          [
           "Meeting",
           "Cary",
           "Morrisville"
          ],
          [
           "Meeting",
           "East Austin",
           "West University"
          ],
          [
           "NaN",
           "West University",
           "South Congress"
          ],
          [
           "NaN",
           "South Congress",
           "Arts District"
          ],
          [
           "Meal/Entertain",
           "The Drag",
           "Congress Ave District"
          ],
          [
           "NaN",
           "Congress Ave District",
           "Downtown"
          ],
          [
           "NaN",
           "Downtown",
           "Red River District"
          ],
          [
           "NaN",
           "Red River District",
           "Downtown"
          ],
          [
           "NaN",
           "South Congress",
           "The Drag"
          ],
          [
           "NaN",
           "The Drag",
           "South Congress"
          ],
          [
           "NaN",
           "South Congress",
           "The Drag"
          ],
          [
           "Meal/Entertain",
           "The Drag",
           "Convention Center District"
          ],
          [
           "Meal/Entertain",
           "South Congress",
           "North Austin"
          ],
          [
           "Meal/Entertain",
           "Georgian Acres",
           "The Drag"
          ],
          [
           "Meal/Entertain",
           "The Drag",
           "North Austin"
          ],
          [
           "Meal/Entertain",
           "North Austin",
           "Coxville"
          ],
          [
           "NaN",
           "Coxville",
           "The Drag"
          ],
          [
           "Errand/Supplies",
           "The Drag",
           "South Congress"
          ],
          [
           "NaN",
           "South Congress",
           "The Drag"
          ],
          [
           "Meal/Entertain",
           "The Drag",
           "Convention Center District"
          ],
          [
           "Meal/Entertain",
           "Downtown",
           "The Drag"
          ],
          [
           "Meal/Entertain",
           "The Drag",
           "Congress Ave District"
          ],
          [
           "NaN",
           "Convention Center District",
           "West University"
          ],
          [
           "Meal/Entertain",
           "West University",
           "Congress Ave District"
          ],
          [
           "NaN",
           "Downtown",
           "The Drag"
          ],
          [
           "Customer Visit",
           "Austin",
           "Katy"
          ],
          [
           "Meeting",
           "Katy",
           "Houston"
          ],
          [
           "Meal/Entertain",
           "Midtown",
           "Alief"
          ],
          [
           "NaN",
           "Houston",
           "Houston"
          ],
          [
           "NaN",
           "Houston",
           "Houston"
          ],
          [
           "NaN",
           "Sharpstown",
           "Midtown"
          ],
          [
           "Meal/Entertain",
           "Midtown",
           "Midtown"
          ],
          [
           "Meal/Entertain",
           "Midtown",
           "Midtown"
          ],
          [
           "Meeting",
           "Midtown",
           "Sharpstown"
          ],
          [
           "Errand/Supplies",
           "Sharpstown",
           "Sharpstown"
          ],
          [
           "Customer Visit",
           "Sharpstown",
           "Midtown"
          ],
          [
           "Meal/Entertain",
           "Midtown",
           "Sharpstown"
          ],
          [
           "Customer Visit",
           "Houston",
           "Sugar Land"
          ],
          [
           "Customer Visit",
           "Sugar Land",
           "Houston"
          ],
          [
           "Meal/Entertain",
           "Houston",
           "Galveston"
          ],
          [
           "Meal/Entertain",
           "Galveston",
           "Port Bolivar"
          ],
          [
           "Errand/Supplies",
           "Port Bolivar",
           "Port Bolivar"
          ],
          [
           "NaN",
           "Port Bolivar",
           "Port Bolivar"
          ],
          [
           "Meeting",
           "Port Bolivar",
           "Galveston"
          ],
          [
           "Customer Visit",
           "Galveston",
           "Houston"
          ],
          [
           "Meeting",
           "Midtown",
           "Washington Avenue"
          ],
          [
           "Meeting",
           "Washington Avenue",
           "Midtown"
          ],
          [
           "NaN",
           "Midtown",
           "Sharpstown"
          ],
          [
           "NaN",
           "Sharpstown",
           "Briar Meadow"
          ],
          [
           "Customer Visit",
           "Briar Meadow",
           "Midtown"
          ],
          [
           "NaN",
           "Midtown",
           "Downtown"
          ],
          [
           "Meal/Entertain",
           "Downtown",
           "Midtown"
          ],
          [
           "NaN",
           "Midtown",
           "Sharpstown"
          ],
          [
           "Meal/Entertain",
           "Sharpstown",
           "Midtown"
          ],
          [
           "Meal/Entertain",
           "Midtown",
           "Greater Greenspoint"
          ],
          [
           "NaN",
           "Morrisville",
           "Cary"
          ],
          [
           "NaN",
           "Whitebridge",
           "Whitebridge"
          ],
          [
           "NaN",
           "Whitebridge",
           "Preston"
          ],
          [
           "NaN",
           "Preston",
           "Whitebridge"
          ],
          [
           "NaN",
           "Whitebridge",
           "Westpark Place"
          ],
          [
           "NaN",
           "Westpark Place",
           "Whitebridge"
          ],
          [
           "Customer Visit",
           "Cary",
           "Latta"
          ],
          [
           "Customer Visit",
           "Latta",
           "Jacksonville"
          ],
          [
           "Meeting",
           "Jacksonville",
           "Kissimmee"
          ],
          [
           "NaN",
           "Couples Glen",
           "Isles of Buena Vista"
          ],
          [
           "NaN",
           "Kissimmee",
           "Orlando"
          ],
          [
           "NaN",
           "Lake Reams",
           "Lake Reams"
          ],
          [
           "Errand/Supplies",
           "Lake Reams",
           "Lake Reams"
          ],
          [
           "Meal/Entertain",
           "Orlando",
           "Kissimmee"
          ],
          [
           "Customer Visit",
           "Kissimmee",
           "Orlando"
          ],
          [
           "NaN",
           "Orlando",
           "Orlando"
          ],
          [
           "NaN",
           "Orlando",
           "Kissimmee"
          ],
          [
           "NaN",
           "Kissimmee",
           "Orlando"
          ],
          [
           "NaN",
           "Couples Glen",
           "Vista East"
          ],
          [
           "NaN",
           "Orlando",
           "Kissimmee"
          ],
          [
           "NaN",
           "Kissimmee",
           "Orlando"
          ],
          [
           "NaN",
           "Sand Lake Commons",
           "Sky Lake"
          ],
          [
           "NaN",
           "Sky Lake",
           "Sand Lake Commons"
          ],
          [
           "NaN",
           "Orlando",
           "Kissimmee"
          ],
          [
           "Meal/Entertain",
           "Orlando",
           "Kissimmee"
          ],
          [
           "Temporary Site",
           "Kissimmee",
           "Orlando"
          ],
          [
           "Meal/Entertain",
           "Orlando",
           "Kissimmee"
          ],
          [
           "Meeting",
           "Kissimmee",
           "Kissimmee"
          ],
          [
           "Customer Visit",
           "Kissimmee",
           "Orlando"
          ],
          [
           "Meeting",
           "Orlando",
           "Kissimmee"
          ],
          [
           "NaN",
           "Kissimmee",
           "Kissimmee"
          ],
          [
           "NaN",
           "Kissimmee",
           "Kissimmee"
          ],
          [
           "NaN",
           "Kissimmee",
           "Kissimmee"
          ],
          [
           "Customer Visit",
           "Kissimmee",
           "Daytona Beach"
          ],
          [
           "Customer Visit",
           "Daytona Beach",
           "Jacksonville"
          ],
          [
           "Customer Visit",
           "Jacksonville",
           "Ridgeland"
          ],
          [
           "Meeting",
           "Ridgeland",
           "Florence"
          ],
          [
           "Meeting",
           "Florence",
           "Cary"
          ],
          [
           "Meal/Entertain",
           "Whitebridge",
           "Wayne Ridge"
          ],
          [
           "Meal/Entertain",
           "Wayne Ridge",
           "Whitebridge"
          ],
          [
           "Meal/Entertain",
           "Cary",
           "Morrisville"
          ],
          [
           "Errand/Supplies",
           "Morrisville",
           "Cary"
          ],
          [
           "Meeting",
           "Cary",
           "Durham"
          ],
          [
           "Meal/Entertain",
           "Durham",
           "Cary"
          ],
          [
           "Errand/Supplies",
           "Westpark Place",
           "Whitebridge"
          ],
          [
           "Meeting",
           "Cary",
           "Raleigh"
          ],
          [
           "Meeting",
           "Raleigh",
           "Cary"
          ],
          [
           "Errand/Supplies",
           "Whitebridge",
           "Edgehill Farms"
          ],
          [
           "Meeting",
           "Cary",
           "Raleigh"
          ],
          [
           "Customer Visit",
           "Meredith",
           "Cedar Hill"
          ],
          [
           "Meeting",
           "Raleigh",
           "Morrisville"
          ],
          [
           "Meal/Entertain",
           "Morrisville",
           "Cary"
          ],
          [
           "Temporary Site",
           "Cary",
           "Holly Springs"
          ],
          [
           "Temporary Site",
           "Holly Springs",
           "Cary"
          ],
          [
           "Temporary Site",
           "Cary",
           "Raleigh"
          ],
          [
           "Errand/Supplies",
           "Meredith Townes",
           "Harden Place"
          ],
          [
           "Meeting",
           "Raleigh",
           "Cary"
          ],
          [
           "Errand/Supplies",
           "Cary",
           "Morrisville"
          ],
          [
           "Meal/Entertain",
           "Morrisville",
           "Cary"
          ],
          [
           "Meal/Entertain",
           "Whitebridge",
           "Wayne Ridge"
          ],
          [
           "Meal/Entertain",
           "Wayne Ridge",
           "Whitebridge"
          ],
          [
           "Meeting",
           "Cary",
           "Raleigh"
          ],
          [
           "Meeting",
           "Raleigh",
           "Cary"
          ],
          [
           "Meeting",
           "Cary",
           "Durham"
          ],
          [
           "Meeting",
           "Durham",
           "Cary"
          ],
          [
           "Meal/Entertain",
           "Whitebridge",
           "Tanglewood"
          ],
          [
           "Meal/Entertain",
           "Tanglewood",
           "Whitebridge"
          ],
          [
           "Errand/Supplies",
           "Cary",
           "Morrisville"
          ],
          [
           "Errand/Supplies",
           "Chessington",
           "Chessington"
          ],
          [
           "Between Offices",
           "Morrisville",
           "Cary"
          ],
          [
           "Between Offices",
           "Whitebridge",
           "Burtrose"
          ],
          [
           "Between Offices",
           "Burtrose",
           "Whitebridge"
          ],
          [
           "Customer Visit",
           "Cary",
           "Raleigh"
          ],
          [
           "Customer Visit",
           "Raleigh",
           "Cary"
          ],
          [
           "Customer Visit",
           "Morrisville",
           "Cary"
          ],
          [
           "Meeting",
           "Cary",
           "Durham"
          ],
          [
           "Meeting",
           "Durham",
           "Cary"
          ],
          [
           "Customer Visit",
           "Cary",
           "Durham"
          ],
          [
           "Meeting",
           "Durham",
           "Cary"
          ],
          [
           "Meal/Entertain",
           "Whitebridge",
           "Waverly Place"
          ],
          [
           "NaN",
           "Waverly Place",
           "Whitebridge"
          ],
          [
           "Meal/Entertain",
           "Whitebridge",
           "Westpark Place"
          ],
          [
           "NaN",
           "Westpark Place",
           "Whitebridge"
          ],
          [
           "Between Offices",
           "Whitebridge",
           "Tanglewood"
          ],
          [
           "Meeting",
           "Tanglewood",
           "Parkway"
          ],
          [
           "Errand/Supplies",
           "Parkway",
           "Whitebridge"
          ],
          [
           "Errand/Supplies",
           "Whitebridge",
           "Westpark Place"
          ],
          [
           "Meal/Entertain",
           "Westpark Place",
           "Whitebridge"
          ],
          [
           "Meal/Entertain",
           "Morrisville",
           "Cary"
          ],
          [
           "Meal/Entertain",
           "Cary",
           "Morrisville"
          ],
          [
           "Errand/Supplies",
           "Mcvan",
           "Capitol One"
          ],
          [
           "Meal/Entertain",
           "Capitol One",
           "University District"
          ],
          [
           "Meal/Entertain",
           "University District",
           "Capitol One"
          ],
          [
           "Meal/Entertain",
           "Seattle",
           "Redmond"
          ],
          [
           "Errand/Supplies",
           "Redmond",
           "Bellevue"
          ],
          [
           "Meeting",
           "Bellevue",
           "Seattle"
          ],
          [
           "Meeting",
           "Capitol One",
           "Mcvan"
          ],
          [
           "Meeting",
           "Chapel Hill",
           "Morrisville"
          ],
          [
           "Customer Visit",
           "Morrisville",
           "Cary"
          ],
          [
           "Customer Visit",
           "Cary",
           "Morrisville"
          ],
          [
           "Between Offices",
           "San Francisco",
           "Palo Alto"
          ],
          [
           "Customer Visit",
           "Palo Alto",
           "Sunnyvale"
          ],
          [
           "Customer Visit",
           "Sunnyvale",
           "Newark"
          ],
          [
           "Customer Visit",
           "Newark",
           "Menlo Park"
          ],
          [
           "Customer Visit",
           "Menlo Park",
           "Newark"
          ],
          [
           "Meeting",
           "Newark",
           "San Francisco"
          ],
          [
           "Meeting",
           "Morrisville",
           "Cary"
          ],
          [
           "Meal/Entertain",
           "Cary",
           "Morrisville"
          ],
          [
           "Meal/Entertain",
           "Morrisville",
           "Cary"
          ],
          [
           "Errand/Supplies",
           "Whitebridge",
           "Preston"
          ],
          [
           "Errand/Supplies",
           "Preston",
           "Westpark Place"
          ],
          [
           "Errand/Supplies",
           "Westpark Place",
           "Whitebridge"
          ],
          [
           "Customer Visit",
           "Cary",
           "Morrisville"
          ],
          [
           "Customer Visit",
           "Morrisville",
           "Raleigh"
          ],
          [
           "Meal/Entertain",
           "Old City",
           "Parkway Museums"
          ],
          [
           "Meeting",
           "Old City",
           "Hog Island"
          ],
          [
           "Meal/Entertain",
           "Morrisville",
           "Cary"
          ],
          [
           "Meal/Entertain",
           "Cary",
           "Morrisville"
          ],
          [
           "Meal/Entertain",
           "Morrisville",
           "Cary"
          ],
          [
           "Meal/Entertain",
           "Whitebridge",
           "Savon Height"
          ],
          [
           "Errand/Supplies",
           "Savon Height",
           "Whitebridge"
          ],
          [
           "Errand/Supplies",
           "Whitebridge",
           "Kildaire Farms"
          ],
          [
           "NaN",
           "Savon Height",
           "Kilarney Woods"
          ],
          [
           "Errand/Supplies",
           "Kilarney Woods",
           "Kildaire Farms"
          ],
          [
           "Errand/Supplies",
           "Kilarney Woods",
           "Whitebridge"
          ],
          [
           "Meal/Entertain",
           "Cary",
           "Morrisville"
          ],
          [
           "Customer Visit",
           "Morrisville",
           "Cary"
          ],
          [
           "Meeting",
           "Cary",
           "Raleigh"
          ],
          [
           "Meeting",
           "Raleigh",
           "Cary"
          ],
          [
           "NaN",
           "Westpark Place",
           "Whitebridge"
          ],
          [
           "Customer Visit",
           "Cary",
           "Morrisville"
          ],
          [
           "Meeting",
           "Morrisville",
           "Cary"
          ],
          [
           "Meeting",
           "Cary",
           "Durham"
          ],
          [
           "Meeting",
           "Durham",
           "Cary"
          ],
          [
           "Meal/Entertain",
           "Cary",
           "Morrisville"
          ],
          [
           "Errand/Supplies",
           "Townes at Everett Crossing",
           "Chessington"
          ],
          [
           "Errand/Supplies",
           "Morrisville",
           "Cary"
          ],
          [
           "Errand/Supplies",
           "Huntington Woods",
           "Weston"
          ],
          [
           "Between Offices",
           "Morrisville",
           "Cary"
          ],
          [
           "Customer Visit",
           "Whitebridge",
           "Savon Height"
          ],
          [
           "Customer Visit",
           "Cary",
           "Morrisville"
          ],
          [
           "Meal/Entertain",
           "Weston",
           "Weston"
          ],
          [
           "Meal/Entertain",
           "Morrisville",
           "Cary"
          ],
          [
           "Meeting",
           "Cary",
           "Durham"
          ],
          [
           "Meeting",
           "Durham",
           "Cary"
          ],
          [
           "Errand/Supplies",
           "Whitebridge",
           "Hazelwood"
          ],
          [
           "Errand/Supplies",
           "Hazelwood",
           "Whitebridge"
          ],
          [
           "Meal/Entertain",
           "Cary",
           "Apex"
          ],
          [
           "Meal/Entertain",
           "Apex",
           "Cary"
          ],
          [
           "Meeting",
           "Cary",
           "Durham"
          ],
          [
           "Meeting",
           "Durham",
           "Cary"
          ],
          [
           "Meeting",
           "Cary",
           "Durham"
          ],
          [
           "Meeting",
           "Durham",
           "Cary"
          ],
          [
           "Meal/Entertain",
           "Cary",
           "Morrisville"
          ],
          [
           "Errand/Supplies",
           "Jamaica",
           "New York"
          ],
          [
           "Meal/Entertain",
           "Seaport",
           "Gramercy-Flatiron"
          ],
          [
           "Errand/Supplies",
           "Medical Centre",
           "Tudor City"
          ],
          [
           "Meal/Entertain",
           "Rose Hill",
           "Soho"
          ],
          [
           "Errand/Supplies",
           "Soho",
           "Tribeca"
          ],
          [
           "Errand/Supplies",
           "Tribeca",
           "Financial District"
          ],
          [
           "Errand/Supplies",
           "Financial District",
           "Kips Bay"
          ],
          [
           "Meeting",
           "New York",
           "Jamaica"
          ],
          [
           "Meeting",
           "Cary",
           "Durham"
          ],
          [
           "Meeting",
           "Durham",
           "Cary"
          ],
          [
           "Errand/Supplies",
           "Cary",
           "Morrisville"
          ],
          [
           "Meal/Entertain",
           "Morrisville",
           "Cary"
          ],
          [
           "NaN",
           "Westpark Place",
           "Whitebridge"
          ],
          [
           "Meeting",
           "Cary",
           "Durham"
          ],
          [
           "Meeting",
           "Durham",
           "Cary"
          ],
          [
           "Meal/Entertain",
           "Cary",
           "Morrisville"
          ],
          [
           "Errand/Supplies",
           "Morrisville",
           "Cary"
          ],
          [
           "Errand/Supplies",
           "Parkway",
           "Whitebridge"
          ],
          [
           "Meal/Entertain",
           "Cary",
           "Morrisville"
          ],
          [
           "Meeting",
           "Oakland",
           "Emeryville"
          ],
          [
           "Meal/Entertain",
           "Emeryville",
           "Berkeley"
          ],
          [
           "Meal/Entertain",
           "Berkeley",
           "Oakland"
          ],
          [
           "Customer Visit",
           "Oakland",
           "Unknown Location"
          ],
          [
           "NaN",
           "Emeryville",
           "San Francisco"
          ],
          [
           "Meeting",
           "San Francisco",
           "Emeryville"
          ],
          [
           "Meeting",
           "Emeryville",
           "Oakland"
          ],
          [
           "Errand/Supplies",
           "Downtown",
           "Bay Farm Island"
          ],
          [
           "Between Offices",
           "Kenner",
           "New Orleans"
          ],
          [
           "Between Offices",
           "CBD",
           "Lower Garden District"
          ],
          [
           "Customer Visit",
           "Lower Garden District",
           "Lakeview"
          ],
          [
           "NaN",
           "Lakeview",
           "Storyville"
          ],
          [
           "Meal/Entertain",
           "Storyville",
           "Faubourg Marigny"
          ],
          [
           "NaN",
           "New Orleans",
           "Metairie"
          ],
          [
           "NaN",
           "Metairie",
           "Kenner"
          ],
          [
           "NaN",
           "Kenner",
           "New Orleans"
          ],
          [
           "NaN",
           "New Orleans",
           "Kenner"
          ],
          [
           "NaN",
           "Kenner",
           "New Orleans"
          ],
          [
           "NaN",
           "New Orleans",
           "Kenner"
          ],
          [
           "NaN",
           "Morrisville",
           "Cary"
          ],
          [
           "NaN",
           "Cary",
           "Raleigh"
          ],
          [
           "NaN",
           "Raleigh",
           "Cary"
          ],
          [
           "NaN",
           "Cary",
           "Raleigh"
          ],
          [
           "Meal/Entertain",
           "Raleigh",
           "Cary"
          ],
          [
           "Meal/Entertain",
           "Whitebridge",
           "Waverly Place"
          ],
          [
           "Meal/Entertain",
           "Waverly Place",
           "Macgregor Downs"
          ],
          [
           "Errand/Supplies",
           "Cary",
           "Raleigh"
          ],
          [
           "Errand/Supplies",
           "Raleigh",
           "Morrisville"
          ],
          [
           "Errand/Supplies",
           "Morrisville",
           "Cary"
          ],
          [
           "Temporary Site",
           "Cary",
           "Morrisville"
          ],
          [
           "NaN",
           "Kenner",
           "New Orleans"
          ],
          [
           "NaN",
           "CBD",
           "Bywater"
          ],
          [
           "Between Offices",
           "New Orleans",
           "Chalmette"
          ],
          [
           "Errand/Supplies",
           "Chalmette",
           "Arabi"
          ],
          [
           "Meal/Entertain",
           "Arabi",
           "Metairie"
          ],
          [
           "Meeting",
           "Pontchartrain Shores",
           "Pontchartrain Shores"
          ],
          [
           "Meeting",
           "Metairie",
           "New Orleans"
          ],
          [
           "NaN",
           "Storyville",
           "Marigny"
          ],
          [
           "NaN",
           "Marigny",
           "Storyville"
          ],
          [
           "Meeting",
           "New Orleans",
           "Kenner"
          ],
          [
           "NaN",
           "Pontchartrain Shores",
           "Pontchartrain Shores"
          ],
          [
           "NaN",
           "Kenner",
           "Kenner"
          ],
          [
           "NaN",
           "Kenner",
           "New Orleans"
          ],
          [
           "NaN",
           "New Orleans",
           "Covington"
          ],
          [
           "NaN",
           "Covington",
           "Covington"
          ],
          [
           "NaN",
           "Covington",
           "Covington"
          ],
          [
           "NaN",
           "Covington",
           "Covington"
          ],
          [
           "NaN",
           "Covington",
           "Covington"
          ],
          [
           "NaN",
           "Covington",
           "Covington"
          ],
          [
           "NaN",
           "Covington",
           "Mandeville"
          ],
          [
           "NaN",
           "Mandeville",
           "Mandeville"
          ],
          [
           "NaN",
           "Mandeville",
           "Metairie"
          ],
          [
           "NaN",
           "Metairie",
           "Kenner"
          ],
          [
           "NaN",
           "Jamestown Court",
           "Jamestown Court"
          ],
          [
           "Customer Visit",
           "Morrisville",
           "Cary"
          ],
          [
           "Meeting",
           "Cary",
           "Durham"
          ],
          [
           "Meeting",
           "Durham",
           "Cary"
          ],
          [
           "Meeting",
           "Durham",
           "Cary"
          ],
          [
           "NaN",
           "Cary",
           "Morrisville"
          ],
          [
           "NaN",
           "Morrisville",
           "Cary"
          ],
          [
           "NaN",
           "Whitebridge",
           "Westpark Place"
          ],
          [
           "NaN",
           "Westpark Place",
           "Whitebridge"
          ],
          [
           "Meeting",
           "Cary",
           "Durham"
          ],
          [
           "Meeting",
           "Durham",
           "Cary"
          ],
          [
           "Meeting",
           "Cary",
           "Durham"
          ],
          [
           "Meeting",
           "Durham",
           "Cary"
          ],
          [
           "Meeting",
           "Cary",
           "Raleigh"
          ],
          [
           "Meeting",
           "Raleigh",
           "Cary"
          ],
          [
           "Meeting",
           "Cary",
           "Durham"
          ],
          [
           "Meeting",
           "Durham",
           "Cary"
          ],
          [
           "Meeting",
           "Cary",
           "Durham"
          ],
          [
           "Meeting",
           "Durham",
           "Cary"
          ],
          [
           "Errand/Supplies",
           "Cary",
           "Morrisville"
          ],
          [
           "Errand/Supplies",
           "Morrisville",
           "Cary"
          ],
          [
           "Meeting",
           "Cary",
           "Durham"
          ],
          [
           "Meeting",
           "Durham",
           "Cary"
          ],
          [
           "Meeting",
           "Whitebridge",
           "Summerwinds"
          ],
          [
           "Temporary Site",
           "Summerwinds",
           "Whitebridge"
          ],
          [
           "Meeting",
           "Cary",
           "Durham"
          ],
          [
           "Errand/Supplies",
           "Parkwood",
           "Parkwood"
          ],
          [
           "Meeting",
           "Durham",
           "Cary"
          ],
          [
           "Errand/Supplies",
           "Whitebridge",
           "Whitebridge"
          ],
          [
           "NaN",
           "Cary",
           "Durham"
          ],
          [
           "NaN",
           "Durham",
           "Morrisville"
          ],
          [
           "Meal/Entertain",
           "Morrisville",
           "Cary"
          ],
          [
           "Meeting",
           "Cary",
           "Durham"
          ],
          [
           "NaN",
           "Durham",
           "Cary"
          ],
          [
           "Meal/Entertain",
           "Cary",
           "Morrisville"
          ],
          [
           "Customer Visit",
           "Morrisville",
           "Cary"
          ],
          [
           "Temporary Site",
           "Cary",
           "Morrisville"
          ],
          [
           "NaN",
           "Morrisville",
           "Cary"
          ],
          [
           "NaN",
           "Kenner",
           "New Orleans"
          ],
          [
           "NaN",
           "CBD",
           "Pontchartrain Beach"
          ],
          [
           "NaN",
           "Pontchartrain Beach",
           "CBD"
          ],
          [
           "NaN",
           "New Orleans",
           "Metairie"
          ],
          [
           "NaN",
           "Kenner",
           "New Orleans"
          ],
          [
           "NaN",
           "New Orleans",
           "Kenner"
          ],
          [
           "NaN",
           "Kenner",
           "Metairie"
          ],
          [
           "NaN",
           "Metairie",
           "New Orleans"
          ],
          [
           "NaN",
           "CBD",
           "St Thomas"
          ],
          [
           "NaN",
           "St Thomas",
           "CBD"
          ],
          [
           "NaN",
           "New Orleans",
           "Kenner"
          ],
          [
           "NaN",
           "Kenner",
           "New Orleans"
          ],
          [
           "NaN",
           "New Orleans",
           "Kenner"
          ],
          [
           "NaN",
           "Kenner",
           "Kenner"
          ],
          [
           "NaN",
           "Morrisville",
           "Cary"
          ],
          [
           "NaN",
           "Cary",
           "Morrisville"
          ],
          [
           "NaN",
           "Morrisville",
           "Morrisville"
          ],
          [
           "NaN",
           "Morrisville",
           "Cary"
          ],
          [
           "NaN",
           "Cary",
           "Morrisville"
          ],
          [
           "Errand/Supplies",
           "Morrisville",
           "Morrisville"
          ],
          [
           "NaN",
           "Morrisville",
           "Banner Elk"
          ],
          [
           "NaN",
           "Banner Elk",
           "Banner Elk"
          ],
          [
           "NaN",
           "Banner Elk",
           "Banner Elk"
          ],
          [
           "NaN",
           "Banner Elk",
           "Elk Park"
          ],
          [
           "NaN",
           "Elk Park",
           "Banner Elk"
          ],
          [
           "NaN",
           "Banner Elk",
           "Banner Elk"
          ],
          [
           "NaN",
           "Banner Elk",
           "Newland"
          ],
          [
           "NaN",
           "Newland",
           "Newland"
          ],
          [
           "NaN",
           "Newland",
           "Boone"
          ],
          [
           "NaN",
           "Boone",
           "Banner Elk"
          ],
          [
           "NaN",
           "Banner Elk",
           "Banner Elk"
          ],
          [
           "Errand/Supplies",
           "Banner Elk",
           "Banner Elk"
          ],
          [
           "Charity ($)",
           "Banner Elk",
           "Boone"
          ],
          [
           "Commute",
           "Boone",
           "Cary"
          ],
          [
           "Moving",
           "Cary",
           "Morrisville"
          ],
          [
           "Moving",
           "Morrisville",
           "Cary"
          ],
          [
           "Moving",
           "Northwoods",
           "Preston"
          ],
          [
           "Moving",
           "Preston",
           "Whitebridge"
          ],
          [
           "Meeting",
           "Cary",
           "Apex"
          ],
          [
           "Meal/Entertain",
           "Apex",
           "Cary"
          ],
          [
           "Meal/Entertain",
           "Cary",
           "Morrisville"
          ],
          [
           "Errand/Supplies",
           "Hazelwood",
           "Weston"
          ],
          [
           "Meal/Entertain",
           "Morrisville",
           "Cary"
          ],
          [
           "Customer Visit",
           "Whitebridge",
           "Stonewater"
          ],
          [
           "Meeting",
           "Stonewater",
           "Lexington Park at Amberly"
          ],
          [
           "Meal/Entertain",
           "Lexington Park at Amberly",
           "Whitebridge"
          ],
          [
           "Errand/Supplies",
           "Whitebridge",
           "Chessington"
          ],
          [
           "NaN",
           "Chessington",
           "Whitebridge"
          ],
          [
           "NaN",
           "Whitebridge",
           "Edgehill Farms"
          ],
          [
           "NaN",
           "Edgehill Farms",
           "Preston"
          ],
          [
           "NaN",
           "Preston",
           "Whitebridge"
          ],
          [
           "NaN",
           "Whitebridge",
           "Edgehill Farms"
          ],
          [
           "NaN",
           "Edgehill Farms",
           "Burtrose"
          ],
          [
           "NaN",
           "Cary",
           "Morrisville"
          ],
          [
           "NaN",
           "Morrisville",
           "Cary"
          ],
          [
           "NaN",
           "Cary",
           "Morrisville"
          ],
          [
           "NaN",
           "Morrisville",
           "Cary"
          ],
          [
           "NaN",
           "Hazelwood",
           "Lexington Park at Amberly"
          ],
          [
           "NaN",
           "Cary",
           "Durham"
          ],
          [
           "Meeting",
           "Durham",
           "Cary"
          ],
          [
           "Meal/Entertain",
           "Cary",
           "Morrisville"
          ],
          [
           "NaN",
           "Morrisville",
           "Cary"
          ],
          [
           "NaN",
           "Wayne Ridge",
           "Whitebridge"
          ],
          [
           "NaN",
           "Cary",
           "Morrisville"
          ],
          [
           "NaN",
           "Morrisville",
           "Cary"
          ],
          [
           "NaN",
           "Cary",
           "Morrisville"
          ],
          [
           "NaN",
           "Morrisville",
           "Cary"
          ],
          [
           "Meeting",
           "Cary",
           "Durham"
          ],
          [
           "Meeting",
           "Durham",
           "Cary"
          ],
          [
           "NaN",
           "Whitebridge",
           "Parkway"
          ],
          [
           "NaN",
           "Cary",
           "Morrisville"
          ],
          [
           "NaN",
           "Morrisville",
           "Cary"
          ],
          [
           "NaN",
           "Parkway",
           "Whitebridge"
          ],
          [
           "NaN",
           "Whitebridge",
           "Westpark Place"
          ],
          [
           "NaN",
           "Westpark Place",
           "Whitebridge"
          ],
          [
           "Meal/Entertain",
           "Cary",
           "Morrisville"
          ],
          [
           "Meal/Entertain",
           "Morrisville",
           "Cary"
          ],
          [
           "NaN",
           "Cary",
           "Morrisville"
          ],
          [
           "NaN",
           "Morrisville",
           "Raleigh"
          ],
          [
           "NaN",
           "Raleigh",
           "Morrisville"
          ],
          [
           "NaN",
           "Morrisville",
           "Cary"
          ],
          [
           "NaN",
           "Whitebridge",
           "Westpark Place"
          ],
          [
           "Meal/Entertain",
           "Westpark Place",
           "Whitebridge"
          ],
          [
           "NaN",
           "Cary",
           "Durham"
          ],
          [
           "NaN",
           "Durham",
           "Cary"
          ],
          [
           "NaN",
           "Westpark Place",
           "Whitebridge"
          ],
          [
           "NaN",
           "Whitebridge",
           "Arlington Park at Amberly"
          ],
          [
           "NaN",
           "Arlington Park at Amberly",
           "Lexington Park at Amberly"
          ],
          [
           "NaN",
           "Lexington Park at Amberly",
           "Westpark Place"
          ],
          [
           "NaN",
           "Cary",
           "Apex"
          ],
          [
           "NaN",
           "Apex",
           "Cary"
          ],
          [
           "NaN",
           "Whitebridge",
           "Edgehill Farms"
          ],
          [
           "NaN",
           "Cary",
           "Morrisville"
          ],
          [
           "NaN",
           "Morrisville",
           "Cary"
          ],
          [
           "Meeting",
           "Cary",
           "Morrisville"
          ],
          [
           "NaN",
           "Arlington",
           "Washington"
          ],
          [
           "NaN",
           "Kalorama Triangle",
           "K Street"
          ],
          [
           "NaN",
           "K Street",
           "Kalorama Triangle"
          ],
          [
           "NaN",
           "West End",
           "Northwest Rectangle"
          ],
          [
           "NaN",
           "K Street",
           "Kalorama Triangle"
          ],
          [
           "NaN",
           "Kalorama Triangle",
           "Downtown"
          ],
          [
           "NaN",
           "Connecticut Avenue",
           "Kalorama Triangle"
          ],
          [
           "NaN",
           "Kalorama Triangle",
           "Columbia Heights"
          ],
          [
           "NaN",
           "Columbia Heights",
           "Kalorama Triangle"
          ],
          [
           "NaN",
           "Washington",
           "Arlington"
          ],
          [
           "NaN",
           "Morrisville",
           "Cary"
          ],
          [
           "NaN",
           "Whitebridge",
           "Edgehill Farms"
          ],
          [
           "Customer Visit",
           "Edgehill Farms",
           "Whitebridge"
          ],
          [
           "NaN",
           "Cary",
           "Morrisville"
          ],
          [
           "Meal/Entertain",
           "Morrisville",
           "Cary"
          ],
          [
           "NaN",
           "Whitebridge",
           "Farmington Woods"
          ],
          [
           "NaN",
           "Farmington Woods",
           "Edgehill Farms"
          ],
          [
           "Customer Visit",
           "Edgehill Farms",
           "Whitebridge"
          ],
          [
           "NaN",
           "Cary",
           "Morrisville"
          ],
          [
           "Customer Visit",
           "Morrisville",
           "Cary"
          ],
          [
           "NaN",
           "Whitebridge",
           "Waverly Place"
          ],
          [
           "NaN",
           "Cary",
           "Raleigh"
          ],
          [
           "NaN",
           "Raleigh",
           "Cary"
          ],
          [
           "NaN",
           "Cary",
           "Durham"
          ],
          [
           "NaN",
           "Durham",
           "Apex"
          ],
          [
           "NaN",
           "Apex",
           "Apex"
          ],
          [
           "NaN",
           "Apex",
           "Cary"
          ],
          [
           "NaN",
           "Whitebridge",
           "Heritage Pines"
          ],
          [
           "NaN",
           "Heritage Pines",
           "Edgehill Farms"
          ],
          [
           "NaN",
           "Edgehill Farms",
           "Whitebridge"
          ],
          [
           "NaN",
           "Cary",
           "Wake Forest"
          ],
          [
           "NaN",
           "Wake Forest",
           "Cary"
          ],
          [
           "NaN",
           "Whitebridge",
           "Westpark Place"
          ],
          [
           "NaN",
           "Westpark Place",
           "Whitebridge"
          ],
          [
           "Meeting",
           "Cary",
           "Morrisville"
          ],
          [
           "NaN",
           "R?walpindi",
           "Unknown Location"
          ],
          [
           "NaN",
           "Unknown Location",
           "Unknown Location"
          ],
          [
           "NaN",
           "Unknown Location",
           "Unknown Location"
          ],
          [
           "Temporary Site",
           "Unknown Location",
           "Unknown Location"
          ],
          [
           "NaN",
           "Unknown Location",
           "Unknown Location"
          ],
          [
           "NaN",
           "Unknown Location",
           "Unknown Location"
          ],
          [
           "NaN",
           "Unknown Location",
           "Unknown Location"
          ],
          [
           "NaN",
           "Unknown Location",
           "Islamabad"
          ],
          [
           "NaN",
           "Islamabad",
           "Islamabad"
          ],
          [
           "Temporary Site",
           "Islamabad",
           "Unknown Location"
          ],
          [
           "NaN",
           "Unknown Location",
           "Unknown Location"
          ],
          [
           "NaN",
           "Unknown Location",
           "Unknown Location"
          ],
          [
           "NaN",
           "Unknown Location",
           "Unknown Location"
          ],
          [
           "NaN",
           "Unknown Location",
           "R?walpindi"
          ],
          [
           "NaN",
           "R?walpindi",
           "Islamabad"
          ],
          [
           "NaN",
           "Islamabad",
           "Unknown Location"
          ],
          [
           "NaN",
           "Unknown Location",
           "Unknown Location"
          ],
          [
           "NaN",
           "Unknown Location",
           "Unknown Location"
          ],
          [
           "Temporary Site",
           "Unknown Location",
           "Unknown Location"
          ],
          [
           "Temporary Site",
           "Unknown Location",
           "Unknown Location"
          ],
          [
           "NaN",
           "Unknown Location",
           "Noorpur Shahan"
          ],
          [
           "NaN",
           "Noorpur Shahan",
           "Islamabad"
          ],
          [
           "NaN",
           "Islamabad",
           "R?walpindi"
          ],
          [
           "NaN",
           "R?walpindi",
           "Unknown Location"
          ],
          [
           "NaN",
           "Unknown Location",
           "Islamabad"
          ],
          [
           "NaN",
           "Islamabad",
           "Islamabad"
          ],
          [
           "NaN",
           "Islamabad",
           "Unknown Location"
          ],
          [
           "Airport/Travel",
           "Unknown Location",
           "Unknown Location"
          ],
          [
           "NaN",
           "Unknown Location",
           "Unknown Location"
          ],
          [
           "NaN",
           "Unknown Location",
           "Islamabad"
          ],
          [
           "NaN",
           "Islamabad",
           "Islamabad"
          ],
          [
           "NaN",
           "Islamabad",
           "Unknown Location"
          ],
          [
           "NaN",
           "Unknown Location",
           "Islamabad"
          ],
          [
           "NaN",
           "Islamabad",
           "Unknown Location"
          ],
          [
           "NaN",
           "Unknown Location",
           "Islamabad"
          ],
          [
           "NaN",
           "Islamabad",
           "Islamabad"
          ],
          [
           "NaN",
           "Islamabad",
           "Unknown Location"
          ],
          [
           "NaN",
           "Unknown Location",
           "Unknown Location"
          ],
          [
           "NaN",
           "Unknown Location",
           "Unknown Location"
          ],
          [
           "NaN",
           "Unknown Location",
           "R?walpindi"
          ],
          [
           "NaN",
           "R?walpindi",
           "R?walpindi"
          ],
          [
           "NaN",
           "R?walpindi",
           "Unknown Location"
          ],
          [
           "NaN",
           "Unknown Location",
           "Noorpur Shahan"
          ],
          [
           "NaN",
           "Noorpur Shahan",
           "Unknown Location"
          ],
          [
           "NaN",
           "Unknown Location",
           "Noorpur Shahan"
          ],
          [
           "NaN",
           "Noorpur Shahan",
           "Islamabad"
          ],
          [
           "NaN",
           "Islamabad",
           "Unknown Location"
          ],
          [
           "NaN",
           "Unknown Location",
           "Unknown Location"
          ],
          [
           "NaN",
           "Unknown Location",
           "Unknown Location"
          ],
          [
           "NaN",
           "Unknown Location",
           "Unknown Location"
          ],
          [
           "NaN",
           "Unknown Location",
           "Unknown Location"
          ],
          [
           "NaN",
           "Unknown Location",
           "Unknown Location"
          ],
          [
           "NaN",
           "Unknown Location",
           "Unknown Location"
          ],
          [
           "NaN",
           "Unknown Location",
           "Unknown Location"
          ],
          [
           "NaN",
           "Unknown Location",
           "Unknown Location"
          ],
          [
           "NaN",
           "Unknown Location",
           "Lahore"
          ],
          [
           "NaN",
           "Lahore",
           "Unknown Location"
          ],
          [
           "NaN",
           "Unknown Location",
           "Unknown Location"
          ],
          [
           "NaN",
           "Unknown Location",
           "Unknown Location"
          ],
          [
           "NaN",
           "Unknown Location",
           "Lahore"
          ],
          [
           "NaN",
           "Lahore",
           "Lahore"
          ],
          [
           "NaN",
           "Lahore",
           "Lahore"
          ],
          [
           "NaN",
           "Lahore",
           "Unknown Location"
          ],
          [
           "NaN",
           "Unknown Location",
           "Lahore"
          ],
          [
           "NaN",
           "Lahore",
           "Lahore"
          ],
          [
           "NaN",
           "Lahore",
           "Lahore"
          ],
          [
           "NaN",
           "Lahore",
           "Unknown Location"
          ],
          [
           "NaN",
           "Unknown Location",
           "Lahore"
          ],
          [
           "NaN",
           "Lahore",
           "Lahore"
          ],
          [
           "NaN",
           "Lahore",
           "Lahore"
          ],
          [
           "NaN",
           "Lahore",
           "Unknown Location"
          ],
          [
           "NaN",
           "Unknown Location",
           "Unknown Location"
          ],
          [
           "NaN",
           "Unknown Location",
           "Noorpur Shahan"
          ],
          [
           "NaN",
           "Noorpur Shahan",
           "Islamabad"
          ],
          [
           "NaN",
           "Islamabad",
           "Islamabad"
          ],
          [
           "NaN",
           "Islamabad",
           "Unknown Location"
          ],
          [
           "NaN",
           "Unknown Location",
           "Islamabad"
          ],
          [
           "NaN",
           "Islamabad",
           "Islamabad"
          ],
          [
           "NaN",
           "Islamabad",
           "Islamabad"
          ],
          [
           "Temporary Site",
           "Islamabad",
           "Unknown Location"
          ],
          [
           "NaN",
           "Unknown Location",
           "Islamabad"
          ],
          [
           "NaN",
           "Islamabad",
           "Unknown Location"
          ],
          [
           "NaN",
           "Unknown Location",
           "Islamabad"
          ],
          [
           "NaN",
           "Islamabad",
           "Islamabad"
          ],
          [
           "NaN",
           "Unknown Location",
           "Unknown Location"
          ],
          [
           "NaN",
           "Unknown Location",
           "Islamabad"
          ],
          [
           "NaN",
           "Islamabad",
           "Islamabad"
          ],
          [
           "NaN",
           "Islamabad",
           "Unknown Location"
          ],
          [
           "NaN",
           "Unknown Location",
           "Unknown Location"
          ],
          [
           "NaN",
           "Unknown Location",
           "Islamabad"
          ],
          [
           "NaN",
           "Islamabad",
           "Unknown Location"
          ],
          [
           "NaN",
           "Unknown Location",
           "Unknown Location"
          ],
          [
           "NaN",
           "Unknown Location",
           "Islamabad"
          ],
          [
           "NaN",
           "Unknown Location",
           "Unknown Location"
          ],
          [
           "NaN",
           "Unknown Location",
           "R?walpindi"
          ],
          [
           "NaN",
           "Unknown Location",
           "Unknown Location"
          ],
          [
           "NaN",
           "Unknown Location",
           "Unknown Location"
          ],
          [
           "NaN",
           "Unknown Location",
           "Unknown Location"
          ],
          [
           "NaN",
           "Unknown Location",
           "Unknown Location"
          ],
          [
           "NaN",
           "Unknown Location",
           "Unknown Location"
          ],
          [
           "NaN",
           "Unknown Location",
           "Unknown Location"
          ],
          [
           "NaN",
           "Unknown Location",
           "Unknown Location"
          ],
          [
           "NaN",
           "Unknown Location",
           "Unknown Location"
          ],
          [
           "NaN",
           "Unknown Location",
           "Unknown Location"
          ],
          [
           "NaN",
           "Unknown Location",
           "Unknown Location"
          ],
          [
           "NaN",
           "Unknown Location",
           "Unknown Location"
          ],
          [
           "NaN",
           "Unknown Location",
           "Unknown Location"
          ],
          [
           "NaN",
           "R?walpindi",
           "Unknown Location"
          ],
          [
           "NaN",
           "Unknown Location",
           "Islamabad"
          ],
          [
           "NaN",
           "Islamabad",
           "Unknown Location"
          ],
          [
           "NaN",
           "Unknown Location",
           "Unknown Location"
          ],
          [
           "NaN",
           "Unknown Location",
           "Islamabad"
          ],
          [
           "NaN",
           "Islamabad",
           "Unknown Location"
          ],
          [
           "NaN",
           "Unknown Location",
           "R?walpindi"
          ],
          [
           "NaN",
           "Karachi",
           "Karachi"
          ],
          [
           "NaN",
           "Karachi",
           "Unknown Location"
          ],
          [
           "NaN",
           "Unknown Location",
           "Unknown Location"
          ],
          [
           "NaN",
           "Unknown Location",
           "Unknown Location"
          ],
          [
           "NaN",
           "Lahore",
           "Lahore"
          ],
          [
           "NaN",
           "Lahore",
           "Unknown Location"
          ],
          [
           "NaN",
           "Unknown Location",
           "Unknown Location"
          ],
          [
           "NaN",
           "Islamabad",
           "Unknown Location"
          ],
          [
           "NaN",
           "Unknown Location",
           "Islamabad"
          ],
          [
           "NaN",
           "Islamabad",
           "Islamabad"
          ],
          [
           "NaN",
           "Islamabad",
           "Unknown Location"
          ],
          [
           "NaN",
           "Unknown Location",
           "Islamabad"
          ],
          [
           "NaN",
           "Islamabad",
           "Islamabad"
          ],
          [
           "NaN",
           "Islamabad",
           "Islamabad"
          ],
          [
           "NaN",
           "Islamabad",
           "Unknown Location"
          ],
          [
           "NaN",
           "Unknown Location",
           "Unknown Location"
          ],
          [
           "NaN",
           "Unknown Location",
           "Unknown Location"
          ],
          [
           "NaN",
           "Unknown Location",
           "R?walpindi"
          ],
          [
           "NaN",
           "R?walpindi",
           "Unknown Location"
          ],
          [
           "NaN",
           "Unknown Location",
           "Unknown Location"
          ],
          [
           "NaN",
           "Unknown Location",
           "Unknown Location"
          ],
          [
           "NaN",
           "Unknown Location",
           "Lahore"
          ],
          [
           "NaN",
           "Lahore",
           "Lahore"
          ],
          [
           "NaN",
           "Lahore",
           "Unknown Location"
          ],
          [
           "NaN",
           "Unknown Location",
           "Lahore"
          ],
          [
           "NaN",
           "Lahore",
           "Lahore"
          ],
          [
           "NaN",
           "Lahore",
           "Lahore"
          ],
          [
           "NaN",
           "Lahore",
           "Lahore"
          ],
          [
           "NaN",
           "Karachi",
           "Karachi"
          ],
          [
           "NaN",
           "Karachi",
           "Unknown Location"
          ],
          [
           "Temporary Site",
           "Unknown Location",
           "Unknown Location"
          ],
          [
           "NaN",
           "Islamabad",
           "Islamabad"
          ],
          [
           "NaN",
           "Islamabad",
           "Unknown Location"
          ],
          [
           "Meeting",
           "Unknown Location",
           "R?walpindi"
          ],
          [
           "NaN",
           "R?walpindi",
           "Unknown Location"
          ],
          [
           "NaN",
           "Unknown Location",
           "Islamabad"
          ],
          [
           "NaN",
           "Islamabad",
           "Islamabad"
          ],
          [
           "NaN",
           "Islamabad",
           "Islamabad"
          ],
          [
           "NaN",
           "Islamabad",
           "Islamabad"
          ],
          [
           "NaN",
           "Islamabad",
           "Unknown Location"
          ],
          [
           "NaN",
           "Unknown Location",
           "R?walpindi"
          ],
          [
           "NaN",
           "R?walpindi",
           "Unknown Location"
          ],
          [
           "NaN",
           "Unknown Location",
           "Unknown Location"
          ],
          [
           "Meeting",
           "Unknown Location",
           "R?walpindi"
          ],
          [
           "NaN",
           "Morrisville",
           "Morrisville"
          ],
          [
           "NaN",
           "Morrisville",
           "Cary"
          ],
          [
           "Meeting",
           "Cary",
           "Durham"
          ],
          [
           "NaN",
           "Durham",
           "Morrisville"
          ],
          [
           "NaN",
           "Morrisville",
           "Cary"
          ],
          [
           "Meeting",
           "Whitebridge",
           "Parkway"
          ],
          [
           "NaN",
           "Cary",
           "Morrisville"
          ],
          [
           "Meal/Entertain",
           "Morrisville",
           "Cary"
          ],
          [
           "NaN",
           "Cary",
           "Raleigh"
          ],
          [
           "NaN",
           "Raleigh",
           "Cary"
          ],
          [
           "NaN",
           "Cary",
           "Apex"
          ],
          [
           "NaN",
           "Apex",
           "Apex"
          ],
          [
           "NaN",
           "Apex",
           "Cary"
          ],
          [
           "NaN",
           "Whitebridge",
           "Edgehill Farms"
          ],
          [
           "NaN",
           "Edgehill Farms",
           "Whitebridge"
          ],
          [
           "Temporary Site",
           "Cary",
           "Morrisville"
          ],
          [
           "NaN",
           "Oakland",
           "Emeryville"
          ],
          [
           "NaN",
           "Emeryville",
           "Berkeley"
          ],
          [
           "NaN",
           "Berkeley",
           "Emeryville"
          ],
          [
           "NaN",
           "Emeryville",
           "Oakland"
          ],
          [
           "NaN",
           "Oakland",
           "San Francisco"
          ],
          [
           "NaN",
           "SOMISSPO",
           "French Quarter"
          ],
          [
           "NaN",
           "San Francisco",
           "Berkeley"
          ],
          [
           "NaN",
           "West Berkeley",
           "North Berkeley Hills"
          ],
          [
           "NaN",
           "North Berkeley Hills",
           "Southside"
          ],
          [
           "NaN",
           "Berkeley",
           "Emeryville"
          ],
          [
           "NaN",
           "Emeryville",
           "Berkeley"
          ],
          [
           "NaN",
           "Berkeley",
           "San Jose"
          ],
          [
           "NaN",
           "San Jose",
           "Emeryville"
          ],
          [
           "NaN",
           "Emeryville",
           "Oakland"
          ],
          [
           "NaN",
           "Morrisville",
           "Cary"
          ],
          [
           "NaN",
           "Cary",
           "Raleigh"
          ],
          [
           "NaN",
           "Raleigh",
           "Cary"
          ],
          [
           "NaN",
           "Cary",
           "Raleigh"
          ],
          [
           "NaN",
           "Raleigh",
           "Cary"
          ],
          [
           "Meal/Entertain",
           "Cary",
           "Morrisville"
          ],
          [
           "Customer Visit",
           "Morrisville",
           "Cary"
          ],
          [
           "NaN",
           "Cary",
           "Durham"
          ],
          [
           "NaN",
           "Durham",
           "Morrisville"
          ],
          [
           "NaN",
           "Morrisville",
           "Cary"
          ],
          [
           "NaN",
           "Cary",
           "Apex"
          ],
          [
           "NaN",
           "Apex",
           "Eagle Rock"
          ],
          [
           "NaN",
           "Eagle Rock",
           "Cary"
          ],
          [
           "Meal/Entertain",
           "Whitebridge",
           "Savon Height"
          ],
          [
           "NaN",
           "Savon Height",
           "Parkway"
          ],
          [
           "Errand/Supplies",
           "Parkway",
           "Whitebridge"
          ],
          [
           "Meeting",
           "Whitebridge",
           "Parkway"
          ],
          [
           "NaN",
           "Parkway",
           "Whitebridge"
          ],
          [
           "Meeting",
           "Cary",
           "Morrisville"
          ],
          [
           "NaN",
           "Morrisville",
           "Morrisville"
          ],
          [
           "NaN",
           "Huntington Woods",
           "Huntington Woods"
          ],
          [
           "NaN",
           "Huntington Woods",
           "Weston"
          ],
          [
           "NaN",
           "Morrisville",
           "Cary"
          ],
          [
           "Meeting",
           "Cary",
           "Durham"
          ],
          [
           "Meeting",
           "Durham",
           "Cary"
          ],
          [
           "Meeting",
           "Cary",
           "Winston Salem"
          ],
          [
           "Meeting",
           "Winston Salem",
           "Asheville"
          ],
          [
           "Meeting",
           "Asheville",
           "Topton"
          ],
          [
           "Meeting",
           "Topton",
           "Hayesville"
          ],
          [
           "NaN",
           "Hayesville",
           "Topton"
          ],
          [
           "NaN",
           "Topton",
           "Bryson City"
          ],
          [
           "NaN",
           "Bryson City",
           "Bryson City"
          ],
          [
           "NaN",
           "Bryson City",
           "Bryson City"
          ],
          [
           "NaN",
           "Bryson City",
           "Bryson City"
          ],
          [
           "NaN",
           "Bryson City",
           "Almond"
          ],
          [
           "NaN",
           "Almond",
           "Bryson City"
          ],
          [
           "NaN",
           "Bryson City",
           "Asheville"
          ],
          [
           "NaN",
           "Asheville",
           "Mebane"
          ],
          [
           "NaN",
           "Mebane",
           "Cary"
          ],
          [
           "NaN",
           "Cary",
           "Morrisville"
          ],
          [
           "NaN",
           "Morrisville",
           "Raleigh"
          ],
          [
           "NaN",
           "Raleigh",
           "Cary"
          ],
          [
           "Errand/Supplies",
           "Savon Height",
           "Whitebridge"
          ],
          [
           "NaN",
           "Cary",
           "Durham"
          ],
          [
           "NaN",
           "Durham",
           "Cary"
          ],
          [
           "NaN",
           "Whitebridge",
           "Whitebridge"
          ],
          [
           "NaN",
           "Whitebridge",
           "Whitebridge"
          ],
          [
           "NaN",
           "Whitebridge",
           "Whitebridge"
          ],
          [
           "Meal/Entertain",
           "Whitebridge",
           "Whitebridge"
          ],
          [
           "NaN",
           "Whitebridge",
           "Westpark Place"
          ],
          [
           "NaN",
           "Westpark Place",
           "Whitebridge"
          ],
          [
           "Meeting",
           "Cary",
           "Morrisville"
          ],
          [
           "NaN",
           "Morrisville",
           "Morrisville"
          ],
          [
           "NaN",
           "Morrisville",
           "Cary"
          ],
          [
           "NaN",
           "Whitebridge",
           "Hazelwood"
          ],
          [
           "NaN",
           "Hazelwood",
           "Whitebridge"
          ],
          [
           "NaN",
           "Whitebridge",
           "Westpark Place"
          ],
          [
           "NaN",
           "Westpark Place",
           "Whitebridge"
          ],
          [
           "Meal/Entertain",
           "Cary",
           "Morrisville"
          ],
          [
           "Customer Visit",
           "Morrisville",
           "Cary"
          ],
          [
           "Temporary Site",
           "Cary",
           "Morrisville"
          ],
          [
           "NaN",
           "San Jose",
           "Santa Clara"
          ],
          [
           "NaN",
           "Agnew",
           "Cory"
          ],
          [
           "NaN",
           "Cory",
           "Agnew"
          ],
          [
           "NaN",
           "Agnew",
           "Renaissance"
          ],
          [
           "NaN",
           "Renaissance",
           "Agnew"
          ],
          [
           "NaN",
           "Agnew",
           "Agnew"
          ],
          [
           "NaN",
           "Agnew",
           "Renaissance"
          ],
          [
           "Meeting",
           "Renaissance",
           "Agnew"
          ],
          [
           "Customer Visit",
           "Santa Clara",
           "Berkeley"
          ],
          [
           "NaN",
           "Downtown",
           "West Berkeley"
          ],
          [
           "NaN",
           "West Berkeley",
           "Central"
          ],
          [
           "Between Offices",
           "Berkeley",
           "San Francisco"
          ],
          [
           "Between Offices",
           "San Francisco",
           "Berkeley"
          ],
          [
           "Between Offices",
           "Berkeley",
           "San Francisco"
          ],
          [
           "Meeting",
           "San Francisco",
           "Berkeley"
          ],
          [
           "NaN",
           "Berkeley",
           "Emeryville"
          ],
          [
           "NaN",
           "Emeryville",
           "Berkeley"
          ],
          [
           "NaN",
           "Berkeley",
           "San Francisco"
          ],
          [
           "NaN",
           "NOMA",
           "Downtown"
          ],
          [
           "NaN",
           "Downtown",
           "Sunnyside"
          ],
          [
           "NaN",
           "Sunnyside",
           "Ingleside"
          ],
          [
           "Meeting",
           "Ingleside",
           "Potrero Flats"
          ],
          [
           "Customer Visit",
           "San Francisco",
           "Oakland"
          ],
          [
           "NaN",
           "Oakland",
           "Berkeley"
          ],
          [
           "NaN",
           "Central",
           "Central"
          ],
          [
           "Temporary Site",
           "Berkeley",
           "San Francisco"
          ],
          [
           "NaN",
           "Tenderloin",
           "SOMISSPO"
          ],
          [
           "NaN",
           "SOMISSPO",
           "Tenderloin"
          ],
          [
           "Temporary Site",
           "San Francisco",
           "Oakland"
          ],
          [
           "Meeting",
           "Oakland",
           "Berkeley"
          ],
          [
           "NaN",
           "West Berkeley",
           "Central"
          ],
          [
           "Customer Visit",
           "Berkeley",
           "Menlo Park"
          ],
          [
           "NaN",
           "Menlo Park",
           "Palo Alto"
          ],
          [
           "NaN",
           "Palo Alto",
           "Menlo Park"
          ],
          [
           "Customer Visit",
           "Menlo Park",
           "Berkeley"
          ],
          [
           "NaN",
           "Central",
           "College Avenue"
          ],
          [
           "NaN",
           "College Avenue",
           "Central"
          ],
          [
           "NaN",
           "Central",
           "South"
          ],
          [
           "NaN",
           "South",
           "Downtown"
          ],
          [
           "NaN",
           "Downtown",
           "Central"
          ],
          [
           "NaN",
           "Central",
           "West Berkeley"
          ],
          [
           "Meeting",
           "West Berkeley",
           "South"
          ],
          [
           "NaN",
           "South",
           "Southwest Berkeley"
          ],
          [
           "NaN",
           "Berkeley",
           "Emeryville"
          ],
          [
           "Errand/Supplies",
           "Emeryville",
           "Berkeley"
          ],
          [
           "NaN",
           "Central",
           "Central"
          ],
          [
           "NaN",
           "Central",
           "Central"
          ],
          [
           "NaN",
           "Central",
           "Southside"
          ],
          [
           "NaN",
           "Southside",
           "West Berkeley"
          ],
          [
           "Meeting",
           "West Berkeley",
           "Southside"
          ],
          [
           "NaN",
           "Southside",
           "South Berkeley"
          ],
          [
           "NaN",
           "South Berkeley",
           "Southside"
          ],
          [
           "NaN",
           "Southside",
           "Central"
          ],
          [
           "NaN",
           "Central",
           "Southside"
          ],
          [
           "NaN",
           "Southside",
           "Central"
          ],
          [
           "Customer Visit",
           "Berkeley",
           "Mountain View"
          ],
          [
           "Customer Visit",
           "Mountain View",
           "Berkeley"
          ],
          [
           "NaN",
           "Berkeley",
           "Emeryville"
          ],
          [
           "Errand/Supplies",
           "Emeryville",
           "Berkeley"
          ],
          [
           "NaN",
           "Berkeley",
           "Oakland"
          ],
          [
           "Temporary Site",
           "Oakland",
           "San Francisco"
          ],
          [
           "Temporary Site",
           "San Francisco",
           "Berkeley"
          ],
          [
           "Temporary Site",
           "Berkeley",
           "El Cerrito"
          ],
          [
           "Meal/Entertain",
           "El Cerrito",
           "Berkeley"
          ],
          [
           "Customer Visit",
           "Berkeley",
           "Oakland"
          ],
          [
           "Meal/Entertain",
           "Cary",
           "Morrisville"
          ],
          [
           "Meal/Entertain",
           "Morrisville",
           "Cary"
          ],
          [
           "Meeting",
           "Krendle Woods",
           "Whitebridge"
          ],
          [
           "Meeting",
           "Cary",
           "Durham"
          ],
          [
           "Meeting",
           "Durham",
           "Cary"
          ],
          [
           "NaN",
           "Cary",
           "Cary"
          ],
          [
           "NaN",
           "Cary",
           "Cary"
          ],
          [
           "Errand/Supplies",
           "Cary",
           "Apex"
          ],
          [
           "Customer Visit",
           "Apex",
           "Cary"
          ],
          [
           "Between Offices",
           "Cary",
           "Cary"
          ],
          [
           "Customer Visit",
           "Cary",
           "Cary"
          ],
          [
           "Meeting",
           "Cary",
           "Cary"
          ],
          [
           "Errand/Supplies",
           "Cary",
           "Cary"
          ],
          [
           "Meal/Entertain",
           "Cary",
           "Cary"
          ],
          [
           "Meal/Entertain",
           "Cary",
           "Cary"
          ],
          [
           "Errand/Supplies",
           "Cary",
           "Unknown Location"
          ],
          [
           "Meal/Entertain",
           "Unknown Location",
           "Morrisville"
          ],
          [
           "Errand/Supplies",
           "Morrisville",
           "Cary"
          ],
          [
           "Meeting",
           "Cary",
           "Cary"
          ],
          [
           "Meeting",
           "Cary",
           "Cary"
          ],
          [
           "Customer Visit",
           "Cary",
           "Cary"
          ],
          [
           "Meal/Entertain",
           "Cary",
           "Morrisville"
          ],
          [
           "Customer Visit",
           "Morrisville",
           "Cary"
          ],
          [
           "Meal/Entertain",
           "Cary",
           "Cary"
          ],
          [
           "NaN",
           "Cary",
           "Cary"
          ],
          [
           "NaN",
           "Cary",
           "Cary"
          ],
          [
           "NaN",
           "Cary",
           "Cary"
          ],
          [
           "Meeting",
           "Cary",
           "Durham"
          ],
          [
           "Meeting",
           "Durham",
           "Cary"
          ],
          [
           "NaN",
           "Cary",
           "Cary"
          ],
          [
           "Meeting",
           "Cary",
           "Apex"
          ],
          [
           "Meeting",
           "Apex",
           "Holly Springs"
          ],
          [
           "Between Offices",
           "Holly Springs",
           "Cary"
          ],
          [
           "Errand/Supplies",
           "Cary",
           "Cary"
          ],
          [
           "Meal/Entertain",
           "Cary",
           "Morrisville"
          ],
          [
           "NaN",
           "Morrisville",
           "Cary"
          ],
          [
           "Customer Visit",
           "Cary",
           "Raleigh"
          ],
          [
           "Temporary Site",
           "Raleigh",
           "Morrisville"
          ],
          [
           "NaN",
           "Morrisville",
           "Cary"
          ],
          [
           "Meeting",
           "Cary",
           "Cary"
          ],
          [
           "Errand/Supplies",
           "Cary",
           "Cary"
          ],
          [
           "Meal/Entertain",
           "Cary",
           "Morrisville"
          ],
          [
           "Customer Visit",
           "Morrisville",
           "Cary"
          ],
          [
           "Meal/Entertain",
           "Cary",
           "Apex"
          ],
          [
           "Customer Visit",
           "Apex",
           "Cary"
          ],
          [
           "Meal/Entertain",
           "Cary",
           "Morrisville"
          ],
          [
           "Customer Visit",
           "Morrisville",
           "Cary"
          ],
          [
           "Errand/Supplies",
           "Cary",
           "Wake Co."
          ],
          [
           "NaN",
           "Wake Co.",
           "Morrisville"
          ],
          [
           "Customer Visit",
           "Morrisville",
           "Cary"
          ],
          [
           "Meal/Entertain",
           "Cary",
           "Morrisville"
          ],
          [
           "Customer Visit",
           "Morrisville",
           "Cary"
          ],
          [
           "NaN",
           "Cary",
           "Cary"
          ],
          [
           "Meal/Entertain",
           "Cary",
           "Cary"
          ],
          [
           "Meeting",
           "Cary",
           "Cary"
          ],
          [
           "Meeting",
           "Cary",
           "Cary"
          ],
          [
           "Customer Visit",
           "Cary",
           "Cary"
          ],
          [
           "Meal/Entertain",
           "Cary",
           "Cary"
          ],
          [
           "Errand/Supplies",
           "Cary",
           "Cary"
          ],
          [
           "Errand/Supplies",
           "Cary",
           "Cary"
          ],
          [
           "Meeting",
           "Cary",
           "Cary"
          ],
          [
           "Errand/Supplies",
           "Cary",
           "Cary"
          ],
          [
           "Errand/Supplies",
           "Cary",
           "Apex"
          ],
          [
           "Temporary Site",
           "Apex",
           "Cary"
          ],
          [
           "Meeting",
           "Cary",
           "Cary"
          ],
          [
           "Customer Visit",
           "Cary",
           "Cary"
          ],
          [
           "Meeting",
           "Cary",
           "Fuquay-Varina"
          ],
          [
           "Errand/Supplies",
           "Fuquay-Varina",
           "Cary"
          ],
          [
           "Meal/Entertain",
           "Cary",
           "Morrisville"
          ],
          [
           "Customer Visit",
           "Morrisville",
           "Cary"
          ],
          [
           "Meal/Entertain",
           "Cary",
           "Morrisville"
          ],
          [
           "Errand/Supplies",
           "Morrisville",
           "Cary"
          ],
          [
           "Errand/Supplies",
           "Cary",
           "Cary"
          ],
          [
           "Errand/Supplies",
           "Cary",
           "Cary"
          ],
          [
           "Meal/Entertain",
           "Cary",
           "Apex"
          ],
          [
           "Customer Visit",
           "Apex",
           "Cary"
          ],
          [
           "Meal/Entertain",
           "Cary",
           "Morrisville"
          ],
          [
           "Customer Visit",
           "Morrisville",
           "Cary"
          ],
          [
           "Errand/Supplies",
           "Cary",
           "Cary"
          ],
          [
           "Meal/Entertain",
           "Cary",
           "Cary"
          ],
          [
           "NaN",
           "Cary",
           "Cary"
          ],
          [
           "NaN",
           "Cary",
           "Cary"
          ],
          [
           "Meal/Entertain",
           "Cary",
           "Morrisville"
          ],
          [
           "Customer Visit",
           "Morrisville",
           "Cary"
          ],
          [
           "Meeting",
           "Cary",
           "Morrisville"
          ],
          [
           "Airport/Travel",
           "Unknown Location",
           "Unknown Location"
          ],
          [
           "Temporary Site",
           "Unknown Location",
           "Unknown Location"
          ],
          [
           "Errand/Supplies",
           "Unknown Location",
           "Unknown Location"
          ],
          [
           "Errand/Supplies",
           "Unknown Location",
           "Unknown Location"
          ],
          [
           "NaN",
           "Unknown Location",
           "Unknown Location"
          ],
          [
           "Errand/Supplies",
           "Unknown Location",
           "Islamabad"
          ],
          [
           "Temporary Site",
           "Islamabad",
           "Rawalpindi"
          ],
          [
           "Errand/Supplies",
           "Rawalpindi",
           "Unknown Location"
          ],
          [
           "NaN",
           "Unknown Location",
           "Unknown Location"
          ],
          [
           "NaN",
           "Unknown Location",
           "Unknown Location"
          ],
          [
           "NaN",
           "Unknown Location",
           "Unknown Location"
          ],
          [
           "NaN",
           "Unknown Location",
           "Unknown Location"
          ],
          [
           "Customer Visit",
           "Unknown Location",
           "Rawalpindi"
          ],
          [
           "Customer Visit",
           "Rawalpindi",
           "Islamabad"
          ],
          [
           "NaN",
           "Islamabad",
           "Unknown Location"
          ],
          [
           "Meeting",
           "Unknown Location",
           "Unknown Location"
          ],
          [
           "NaN",
           "Unknown Location",
           "Rawalpindi"
          ],
          [
           "Errand/Supplies",
           "Rawalpindi",
           "Rawalpindi"
          ],
          [
           "Meeting",
           "Rawalpindi",
           "Unknown Location"
          ],
          [
           "Errand/Supplies",
           "Unknown Location",
           "Unknown Location"
          ],
          [
           "Temporary Site",
           "Unknown Location",
           "Islamabad"
          ],
          [
           "Errand/Supplies",
           "Islamabad",
           "Islamabad"
          ],
          [
           "Errand/Supplies",
           "Islamabad",
           "Islamabad"
          ],
          [
           "Customer Visit",
           "Islamabad",
           "Unknown Location"
          ],
          [
           "Meeting",
           "Unknown Location",
           "Unknown Location"
          ],
          [
           "Errand/Supplies",
           "Unknown Location",
           "Islamabad"
          ],
          [
           "Meal/Entertain",
           "Islamabad",
           "Unknown Location"
          ],
          [
           "Meeting",
           "Unknown Location",
           "Unknown Location"
          ],
          [
           "Errand/Supplies",
           "Unknown Location",
           "Unknown Location"
          ],
          [
           "Errand/Supplies",
           "Unknown Location",
           "Islamabad"
          ],
          [
           "Meeting",
           "Islamabad",
           "Islamabad"
          ],
          [
           "Customer Visit",
           "Islamabad",
           "Unknown Location"
          ],
          [
           "Meeting",
           "Unknown Location",
           "Rawalpindi"
          ],
          [
           "Meeting",
           "Rawalpindi",
           "Unknown Location"
          ],
          [
           "Meeting",
           "Unknown Location",
           "Unknown Location"
          ],
          [
           "Customer Visit",
           "Unknown Location",
           "Unknown Location"
          ],
          [
           "Meeting",
           "Unknown Location",
           "Unknown Location"
          ],
          [
           "Meeting",
           "Unknown Location",
           "Unknown Location"
          ],
          [
           "Errand/Supplies",
           "Unknown Location",
           "Unknown Location"
          ],
          [
           "Temporary Site",
           "Unknown Location",
           "Unknown Location"
          ],
          [
           "Meeting",
           "Unknown Location",
           "Lahore"
          ],
          [
           "Meal/Entertain",
           "Lahore",
           "Lahore"
          ],
          [
           "Customer Visit",
           "Lahore",
           "Lahore"
          ],
          [
           "Meeting",
           "Lahore",
           "Lahore"
          ],
          [
           "Meeting",
           "Lahore",
           "Unknown Location"
          ],
          [
           "Meeting",
           "Unknown Location",
           "Unknown Location"
          ],
          [
           "Errand/Supplies",
           "Unknown Location",
           "Unknown Location"
          ],
          [
           "Meal/Entertain",
           "Unknown Location",
           "Lahore"
          ],
          [
           "Meal/Entertain",
           "Lahore",
           "Unknown Location"
          ],
          [
           "Meal/Entertain",
           "Unknown Location",
           "Lahore"
          ],
          [
           "Meal/Entertain",
           "Lahore",
           "Lahore"
          ],
          [
           "Errand/Supplies",
           "Lahore",
           "Lahore"
          ],
          [
           "Errand/Supplies",
           "Lahore",
           "Lahore"
          ],
          [
           "Errand/Supplies",
           "Lahore",
           "Lahore"
          ],
          [
           "Meal/Entertain",
           "Lahore",
           "Lahore"
          ],
          [
           "Errand/Supplies",
           "Lahore",
           "Lahore"
          ],
          [
           "Errand/Supplies",
           "Lahore",
           "Lahore"
          ],
          [
           "Meal/Entertain",
           "Lahore",
           "Lahore"
          ],
          [
           "Meal/Entertain",
           "Lahore",
           "Lahore"
          ],
          [
           "Meal/Entertain",
           "Lahore",
           "Lahore"
          ],
          [
           "Customer Visit",
           "Lahore",
           "Lahore"
          ],
          [
           "Customer Visit",
           "Lahore",
           "Lahore"
          ],
          [
           "Customer Visit",
           "Lahore",
           "Lahore"
          ],
          [
           "Meeting",
           "Lahore",
           "Unknown Location"
          ],
          [
           "Temporary Site",
           "Kar?chi",
           "Kar?chi"
          ],
          [
           "Meal/Entertain",
           "Kar?chi",
           "Kar?chi"
          ],
          [
           "Meal/Entertain",
           "Kar?chi",
           "Kar?chi"
          ],
          [
           "Customer Visit",
           "Kar?chi",
           "Unknown Location"
          ],
          [
           "Meeting",
           "Unknown Location",
           "Kar?chi"
          ],
          [
           "Customer Visit",
           "Kar?chi",
           "Kar?chi"
          ],
          [
           "Meal/Entertain",
           "Kar?chi",
           "Unknown Location"
          ],
          [
           "Errand/Supplies",
           "Unknown Location",
           "Kar?chi"
          ],
          [
           "Errand/Supplies",
           "Kar?chi",
           "Kar?chi"
          ],
          [
           "Meal/Entertain",
           "Kar?chi",
           "Unknown Location"
          ],
          [
           "Errand/Supplies",
           "Unknown Location",
           "Kar?chi"
          ],
          [
           "Errand/Supplies",
           "Kar?chi",
           "Kar?chi"
          ],
          [
           "Errand/Supplies",
           "Kar?chi",
           "Kar?chi"
          ],
          [
           "Errand/Supplies",
           "Kar?chi",
           "Kar?chi"
          ],
          [
           "Meal/Entertain",
           "Kar?chi",
           "Unknown Location"
          ],
          [
           "Meal/Entertain",
           "Unknown Location",
           "Kar?chi"
          ],
          [
           "Errand/Supplies",
           "Kar?chi",
           "Kar?chi"
          ],
          [
           "Errand/Supplies",
           "Kar?chi",
           "Kar?chi"
          ],
          [
           "Airport/Travel",
           "Kar?chi",
           "Kar?chi"
          ],
          [
           "Between Offices",
           "Kar?chi",
           "Kar?chi"
          ],
          [
           "Errand/Supplies",
           "Kar?chi",
           "Kar?chi"
          ],
          [
           "Meal/Entertain",
           "Kar?chi",
           "Unknown Location"
          ],
          [
           "Customer Visit",
           "Unknown Location",
           "Kar?chi"
          ],
          [
           "Meeting",
           "Kar?chi",
           "Kar?chi"
          ],
          [
           "NaN",
           "Kar?chi",
           "Unknown Location"
          ],
          [
           "Meeting",
           "Unknown Location",
           "Kar?chi"
          ],
          [
           "Errand/Supplies",
           "Kar?chi",
           "Kar?chi"
          ],
          [
           "Errand/Supplies",
           "Kar?chi",
           "Kar?chi"
          ],
          [
           "Errand/Supplies",
           "Kar?chi",
           "Kar?chi"
          ],
          [
           "Meeting",
           "Kar?chi",
           "Kar?chi"
          ],
          [
           "Customer Visit",
           "Kar?chi",
           "Kar?chi"
          ],
          [
           "Meeting",
           "Kar?chi",
           "Kar?chi"
          ],
          [
           "Temporary Site",
           "Kar?chi",
           "Unknown Location"
          ],
          [
           "Meeting",
           "Unknown Location",
           "Unknown Location"
          ],
          [
           "Temporary Site",
           "Katunayake",
           "Gampaha"
          ],
          [
           "Temporary Site",
           "Gampaha",
           "Ilukwatta"
          ]
         ],
         "hovertemplate": "Distance (Miles)=%{x}<br>Duration (Minutes)=%{y}<br>PURPOSE=%{customdata[0]}<br>START=%{customdata[1]}<br>STOP=%{customdata[2]}<extra></extra>",
         "legendgroup": "",
         "marker": {
          "color": "#636efa",
          "symbol": "circle"
         },
         "mode": "markers",
         "name": "",
         "showlegend": false,
         "type": "scattergl",
         "x": {
          "bdata": "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",
          "dtype": "f8"
         },
         "xaxis": "x",
         "y": {
          "bdata": "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",
          "dtype": "f8"
         },
         "yaxis": "y"
        }
       ],
       "layout": {
        "legend": {
         "tracegroupgap": 0
        },
        "showlegend": false,
        "template": {
         "data": {
          "bar": [
           {
            "error_x": {
             "color": "#2a3f5f"
            },
            "error_y": {
             "color": "#2a3f5f"
            },
            "marker": {
             "line": {
              "color": "#E5ECF6",
              "width": 0.5
             },
             "pattern": {
              "fillmode": "overlay",
              "size": 10,
              "solidity": 0.2
             }
            },
            "type": "bar"
           }
          ],
          "barpolar": [
           {
            "marker": {
             "line": {
              "color": "#E5ECF6",
              "width": 0.5
             },
             "pattern": {
              "fillmode": "overlay",
              "size": 10,
              "solidity": 0.2
             }
            },
            "type": "barpolar"
           }
          ],
          "carpet": [
           {
            "aaxis": {
             "endlinecolor": "#2a3f5f",
             "gridcolor": "white",
             "linecolor": "white",
             "minorgridcolor": "white",
             "startlinecolor": "#2a3f5f"
            },
            "baxis": {
             "endlinecolor": "#2a3f5f",
             "gridcolor": "white",
             "linecolor": "white",
             "minorgridcolor": "white",
             "startlinecolor": "#2a3f5f"
            },
            "type": "carpet"
           }
          ],
          "choropleth": [
           {
            "colorbar": {
             "outlinewidth": 0,
             "ticks": ""
            },
            "type": "choropleth"
           }
          ],
          "contour": [
           {
            "colorbar": {
             "outlinewidth": 0,
             "ticks": ""
            },
            "colorscale": [
             [
              0,
              "#0d0887"
             ],
             [
              0.1111111111111111,
              "#46039f"
             ],
             [
              0.2222222222222222,
              "#7201a8"
             ],
             [
              0.3333333333333333,
              "#9c179e"
             ],
             [
              0.4444444444444444,
              "#bd3786"
             ],
             [
              0.5555555555555556,
              "#d8576b"
             ],
             [
              0.6666666666666666,
              "#ed7953"
             ],
             [
              0.7777777777777778,
              "#fb9f3a"
             ],
             [
              0.8888888888888888,
              "#fdca26"
             ],
             [
              1,
              "#f0f921"
             ]
            ],
            "type": "contour"
           }
          ],
          "contourcarpet": [
           {
            "colorbar": {
             "outlinewidth": 0,
             "ticks": ""
            },
            "type": "contourcarpet"
           }
          ],
          "heatmap": [
           {
            "colorbar": {
             "outlinewidth": 0,
             "ticks": ""
            },
            "colorscale": [
             [
              0,
              "#0d0887"
             ],
             [
              0.1111111111111111,
              "#46039f"
             ],
             [
              0.2222222222222222,
              "#7201a8"
             ],
             [
              0.3333333333333333,
              "#9c179e"
             ],
             [
              0.4444444444444444,
              "#bd3786"
             ],
             [
              0.5555555555555556,
              "#d8576b"
             ],
             [
              0.6666666666666666,
              "#ed7953"
             ],
             [
              0.7777777777777778,
              "#fb9f3a"
             ],
             [
              0.8888888888888888,
              "#fdca26"
             ],
             [
              1,
              "#f0f921"
             ]
            ],
            "type": "heatmap"
           }
          ],
          "histogram": [
           {
            "marker": {
             "pattern": {
              "fillmode": "overlay",
              "size": 10,
              "solidity": 0.2
             }
            },
            "type": "histogram"
           }
          ],
          "histogram2d": [
           {
            "colorbar": {
             "outlinewidth": 0,
             "ticks": ""
            },
            "colorscale": [
             [
              0,
              "#0d0887"
             ],
             [
              0.1111111111111111,
              "#46039f"
             ],
             [
              0.2222222222222222,
              "#7201a8"
             ],
             [
              0.3333333333333333,
              "#9c179e"
             ],
             [
              0.4444444444444444,
              "#bd3786"
             ],
             [
              0.5555555555555556,
              "#d8576b"
             ],
             [
              0.6666666666666666,
              "#ed7953"
             ],
             [
              0.7777777777777778,
              "#fb9f3a"
             ],
             [
              0.8888888888888888,
              "#fdca26"
             ],
             [
              1,
              "#f0f921"
             ]
            ],
            "type": "histogram2d"
           }
          ],
          "histogram2dcontour": [
           {
            "colorbar": {
             "outlinewidth": 0,
             "ticks": ""
            },
            "colorscale": [
             [
              0,
              "#0d0887"
             ],
             [
              0.1111111111111111,
              "#46039f"
             ],
             [
              0.2222222222222222,
              "#7201a8"
             ],
             [
              0.3333333333333333,
              "#9c179e"
             ],
             [
              0.4444444444444444,
              "#bd3786"
             ],
             [
              0.5555555555555556,
              "#d8576b"
             ],
             [
              0.6666666666666666,
              "#ed7953"
             ],
             [
              0.7777777777777778,
              "#fb9f3a"
             ],
             [
              0.8888888888888888,
              "#fdca26"
             ],
             [
              1,
              "#f0f921"
             ]
            ],
            "type": "histogram2dcontour"
           }
          ],
          "mesh3d": [
           {
            "colorbar": {
             "outlinewidth": 0,
             "ticks": ""
            },
            "type": "mesh3d"
           }
          ],
          "parcoords": [
           {
            "line": {
             "colorbar": {
              "outlinewidth": 0,
              "ticks": ""
             }
            },
            "type": "parcoords"
           }
          ],
          "pie": [
           {
            "automargin": true,
            "type": "pie"
           }
          ],
          "scatter": [
           {
            "fillpattern": {
             "fillmode": "overlay",
             "size": 10,
             "solidity": 0.2
            },
            "type": "scatter"
           }
          ],
          "scatter3d": [
           {
            "line": {
             "colorbar": {
              "outlinewidth": 0,
              "ticks": ""
             }
            },
            "marker": {
             "colorbar": {
              "outlinewidth": 0,
              "ticks": ""
             }
            },
            "type": "scatter3d"
           }
          ],
          "scattercarpet": [
           {
            "marker": {
             "colorbar": {
              "outlinewidth": 0,
              "ticks": ""
             }
            },
            "type": "scattercarpet"
           }
          ],
          "scattergeo": [
           {
            "marker": {
             "colorbar": {
              "outlinewidth": 0,
              "ticks": ""
             }
            },
            "type": "scattergeo"
           }
          ],
          "scattergl": [
           {
            "marker": {
             "colorbar": {
              "outlinewidth": 0,
              "ticks": ""
             }
            },
            "type": "scattergl"
           }
          ],
          "scattermap": [
           {
            "marker": {
             "colorbar": {
              "outlinewidth": 0,
              "ticks": ""
             }
            },
            "type": "scattermap"
           }
          ],
          "scattermapbox": [
           {
            "marker": {
             "colorbar": {
              "outlinewidth": 0,
              "ticks": ""
             }
            },
            "type": "scattermapbox"
           }
          ],
          "scatterpolar": [
           {
            "marker": {
             "colorbar": {
              "outlinewidth": 0,
              "ticks": ""
             }
            },
            "type": "scatterpolar"
           }
          ],
          "scatterpolargl": [
           {
            "marker": {
             "colorbar": {
              "outlinewidth": 0,
              "ticks": ""
             }
            },
            "type": "scatterpolargl"
           }
          ],
          "scatterternary": [
           {
            "marker": {
             "colorbar": {
              "outlinewidth": 0,
              "ticks": ""
             }
            },
            "type": "scatterternary"
           }
          ],
          "surface": [
           {
            "colorbar": {
             "outlinewidth": 0,
             "ticks": ""
            },
            "colorscale": [
             [
              0,
              "#0d0887"
             ],
             [
              0.1111111111111111,
              "#46039f"
             ],
             [
              0.2222222222222222,
              "#7201a8"
             ],
             [
              0.3333333333333333,
              "#9c179e"
             ],
             [
              0.4444444444444444,
              "#bd3786"
             ],
             [
              0.5555555555555556,
              "#d8576b"
             ],
             [
              0.6666666666666666,
              "#ed7953"
             ],
             [
              0.7777777777777778,
              "#fb9f3a"
             ],
             [
              0.8888888888888888,
              "#fdca26"
             ],
             [
              1,
              "#f0f921"
             ]
            ],
            "type": "surface"
           }
          ],
          "table": [
           {
            "cells": {
             "fill": {
              "color": "#EBF0F8"
             },
             "line": {
              "color": "white"
             }
            },
            "header": {
             "fill": {
              "color": "#C8D4E3"
             },
             "line": {
              "color": "white"
             }
            },
            "type": "table"
           }
          ]
         },
         "layout": {
          "annotationdefaults": {
           "arrowcolor": "#2a3f5f",
           "arrowhead": 0,
           "arrowwidth": 1
          },
          "autotypenumbers": "strict",
          "coloraxis": {
           "colorbar": {
            "outlinewidth": 0,
            "ticks": ""
           }
          },
          "colorscale": {
           "diverging": [
            [
             0,
             "#8e0152"
            ],
            [
             0.1,
             "#c51b7d"
            ],
            [
             0.2,
             "#de77ae"
            ],
            [
             0.3,
             "#f1b6da"
            ],
            [
             0.4,
             "#fde0ef"
            ],
            [
             0.5,
             "#f7f7f7"
            ],
            [
             0.6,
             "#e6f5d0"
            ],
            [
             0.7,
             "#b8e186"
            ],
            [
             0.8,
             "#7fbc41"
            ],
            [
             0.9,
             "#4d9221"
            ],
            [
             1,
             "#276419"
            ]
           ],
           "sequential": [
            [
             0,
             "#0d0887"
            ],
            [
             0.1111111111111111,
             "#46039f"
            ],
            [
             0.2222222222222222,
             "#7201a8"
            ],
            [
             0.3333333333333333,
             "#9c179e"
            ],
            [
             0.4444444444444444,
             "#bd3786"
            ],
            [
             0.5555555555555556,
             "#d8576b"
            ],
            [
             0.6666666666666666,
             "#ed7953"
            ],
            [
             0.7777777777777778,
             "#fb9f3a"
            ],
            [
             0.8888888888888888,
             "#fdca26"
            ],
            [
             1,
             "#f0f921"
            ]
           ],
           "sequentialminus": [
            [
             0,
             "#0d0887"
            ],
            [
             0.1111111111111111,
             "#46039f"
            ],
            [
             0.2222222222222222,
             "#7201a8"
            ],
            [
             0.3333333333333333,
             "#9c179e"
            ],
            [
             0.4444444444444444,
             "#bd3786"
            ],
            [
             0.5555555555555556,
             "#d8576b"
            ],
            [
             0.6666666666666666,
             "#ed7953"
            ],
            [
             0.7777777777777778,
             "#fb9f3a"
            ],
            [
             0.8888888888888888,
             "#fdca26"
            ],
            [
             1,
             "#f0f921"
            ]
           ]
          },
          "colorway": [
           "#636efa",
           "#EF553B",
           "#00cc96",
           "#ab63fa",
           "#FFA15A",
           "#19d3f3",
           "#FF6692",
           "#B6E880",
           "#FF97FF",
           "#FECB52"
          ],
          "font": {
           "color": "#2a3f5f"
          },
          "geo": {
           "bgcolor": "white",
           "lakecolor": "white",
           "landcolor": "#E5ECF6",
           "showlakes": true,
           "showland": true,
           "subunitcolor": "white"
          },
          "hoverlabel": {
           "align": "left"
          },
          "hovermode": "closest",
          "mapbox": {
           "style": "light"
          },
          "paper_bgcolor": "white",
          "plot_bgcolor": "#E5ECF6",
          "polar": {
           "angularaxis": {
            "gridcolor": "white",
            "linecolor": "white",
            "ticks": ""
           },
           "bgcolor": "#E5ECF6",
           "radialaxis": {
            "gridcolor": "white",
            "linecolor": "white",
            "ticks": ""
           }
          },
          "scene": {
           "xaxis": {
            "backgroundcolor": "#E5ECF6",
            "gridcolor": "white",
            "gridwidth": 2,
            "linecolor": "white",
            "showbackground": true,
            "ticks": "",
            "zerolinecolor": "white"
           },
           "yaxis": {
            "backgroundcolor": "#E5ECF6",
            "gridcolor": "white",
            "gridwidth": 2,
            "linecolor": "white",
            "showbackground": true,
            "ticks": "",
            "zerolinecolor": "white"
           },
           "zaxis": {
            "backgroundcolor": "#E5ECF6",
            "gridcolor": "white",
            "gridwidth": 2,
            "linecolor": "white",
            "showbackground": true,
            "ticks": "",
            "zerolinecolor": "white"
           }
          },
          "shapedefaults": {
           "line": {
            "color": "#2a3f5f"
           }
          },
          "ternary": {
           "aaxis": {
            "gridcolor": "white",
            "linecolor": "white",
            "ticks": ""
           },
           "baxis": {
            "gridcolor": "white",
            "linecolor": "white",
            "ticks": ""
           },
           "bgcolor": "#E5ECF6",
           "caxis": {
            "gridcolor": "white",
            "linecolor": "white",
            "ticks": ""
           }
          },
          "title": {
           "x": 0.05
          },
          "xaxis": {
           "automargin": true,
           "gridcolor": "white",
           "linecolor": "white",
           "ticks": "",
           "title": {
            "standoff": 15
           },
           "zerolinecolor": "white",
           "zerolinewidth": 2
          },
          "yaxis": {
           "automargin": true,
           "gridcolor": "white",
           "linecolor": "white",
           "ticks": "",
           "title": {
            "standoff": 15
           },
           "zerolinecolor": "white",
           "zerolinewidth": 2
          }
         }
        },
        "title": {
         "font": {
          "size": 14
         },
         "text": "Trip Distance vs. Duration"
        },
        "xaxis": {
         "anchor": "y",
         "domain": [
          0,
          1
         ],
         "title": {
          "text": "Distance (Miles)"
         }
        },
        "yaxis": {
         "anchor": "x",
         "domain": [
          0,
          1
         ],
         "title": {
          "text": "Duration (Minutes)"
         }
        }
       }
      }
     },
     "metadata": {},
     "output_type": "display_data"
    },
    {
     "name": "stdout",
     "output_type": "stream",
     "text": [
      "\n",
      "Top 5 Trips by Duration:\n",
      "     MILES  DURATION_MIN         PURPOSE             START              STOP\n",
      "776  195.6         336.0             NaN  Unknown Location  Unknown Location\n",
      "269  310.3         330.0  Customer Visit             Latta      Jacksonville\n",
      "546  195.3         206.0             NaN       Morrisville        Banner Elk\n",
      "559  180.2         185.0         Commute             Boone              Cary\n",
      "881  195.9         181.0             NaN         Asheville            Mebane\n"
     ]
    }
   ],
   "source": [
    "import plotly.express as px\n",
    "\n",
    "# Verify df_cleaned\n",
    "print(\"Cleaned Dataset Summary:\")\n",
    "print(\"Total rows:\", len(df_cleaned))\n",
    "print(\"Missing values in MILES:\", df_cleaned['MILES'].isnull().sum())\n",
    "print(\"Missing values in START_DATE:\", df_cleaned['START_DATE'].isnull().sum())\n",
    "print(\"Missing values in END_DATE:\", df_cleaned['END_DATE'].isnull().sum())\n",
    "\n",
    "# Trip duration in minutes\n",
    "df_cleaned['DURATION_MIN'] = (df_cleaned['END_DATE'] - df_cleaned['START_DATE']).dt.total_seconds() / 60\n",
    "\n",
    "# eliminate invalid durations\n",
    "df_cleaned = df_cleaned[df_cleaned['DURATION_MIN'].notnull() & (df_cleaned['DURATION_MIN'] >= 0)]\n",
    "print(f\"Rows after filtering invalid durations: {len(df_cleaned)}\")\n",
    "\n",
    "# # Verify duration calculations\n",
    "# print(df_cleaned['DURATION_MIN'].describe())\n",
    "\n",
    "# Create scatter plot \n",
    "fig = px.scatter(\n",
    "    df_cleaned,\n",
    "    x='MILES',\n",
    "    y='DURATION_MIN',\n",
    "    title='Trip Distance vs. Duration',\n",
    "    labels={'MILES': 'Distance (Miles)', 'DURATION_MIN': 'Duration (Minutes)'},\n",
    "    hover_data=['PURPOSE', 'START', 'STOP']\n",
    ")\n",
    "\n",
    "fig.update_layout(\n",
    "    xaxis_title=\"Distance (Miles)\",\n",
    "    yaxis_title=\"Duration (Minutes)\",\n",
    "    title_font_size=14,\n",
    "    showlegend=False\n",
    ")\n",
    "\n",
    "\n",
    "fig.show()\n",
    "\n",
    "# Save the plot\n",
    "fig.write_image('C:/Users/archi/OneDrive/Documents/Coding/Python/Projects/HexSoftwares_Exploratory_Data_Analysis/visualizations/miles_vs_duration.png', scale=3)\n",
    "\n",
    "# Key points summary\n",
    "print(\"\\nTop 5 Trips by Duration:\")\n",
    "print(df_cleaned[['MILES', 'DURATION_MIN', 'PURPOSE', 'START', 'STOP']].sort_values(by='DURATION_MIN', ascending=False).head())"
   ]
  },
  {
   "cell_type": "markdown",
   "id": "00b6db24",
   "metadata": {},
   "source": [
    "**Distribution**: Most trips show a positive correlation between distance and duration, with typical durations of 10–25 minutes for trips under 20 miles. Outliers may indicate traffic or waiting times."
   ]
  }
 ],
 "metadata": {
  "kernelspec": {
   "display_name": ".venv",
   "language": "python",
   "name": "python3"
  },
  "language_info": {
   "codemirror_mode": {
    "name": "ipython",
    "version": 3
   },
   "file_extension": ".py",
   "mimetype": "text/x-python",
   "name": "python",
   "nbconvert_exporter": "python",
   "pygments_lexer": "ipython3",
   "version": "3.13.2"
  }
 },
 "nbformat": 4,
 "nbformat_minor": 5
}
